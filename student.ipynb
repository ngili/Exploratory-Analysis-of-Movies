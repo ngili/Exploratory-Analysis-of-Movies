{
 "cells": [
  {
   "cell_type": "markdown",
   "metadata": {},
   "source": [
    "## Final Project Submission\n",
    "\n",
    "* Student name: Whitney Ndivi Ngili\n",
    "* Student pace: full time\n",
    "* Scheduled project review date/time: 20th Nov 2022\n",
    "* Instructor name: Mark Tiba \n",
    "* Blog post URL: N/A\n"
   ]
  },
  {
   "cell_type": "markdown",
   "metadata": {},
   "source": [
    "# Phase 1 Project - Microsoft Studios Movie Project\n",
    "## 1. Introduction\n",
    "\n",
    "The film industry has been one of the fastest growing markets in recent years.A report by [Global News Wire](https://www.globenewswire.com/news-release/2022/03/08/2398616/0/en/Film-And-Video-Global-Market-Report-2022.html) has shown that as of 2021, the global entertainment market size was valued at USD 244.43 billion. Movies are a significant part of pop culture and a major source of entertainment for a large part of the population and with regards to revenue, the market is expected to be worth USD 409.02 billion by 2026. It is therefore prudent to invest in this market.\n",
    "\n",
    "\n",
    "## 2. Business Understanding\n",
    "### 2.1. Problem\n",
    "Microsoft is setting up a new studio to create original video content. In order to make the necessary decisions resulting in the most profitable movies, there is need to look into data from movie review sites, analyse the data and come up with the recommendations that will lead to this outcome.\n",
    "From the datasets provided, answers to the following questions can be sought:\n",
    "   - What are the most popular genres?\n",
    "   - Who are the best people to attach to this project?\n",
    "   - What studios can be used as a guide based on their performance in the market?\n",
    "   - What are the most popular film ratings?\n",
    "\n",
    "\n",
    "### 2.2 Objectives\n",
    "- Explore the datasets to answer the business questions.\n",
    "- Provide recommendations from the outcomes of the analyses.\n",
    "\n",
    "![Inception](Images/inception_poster.jpg)\n",
    "Image Source:  [IMDB](https://www.imdb.com/title/tt1375666/mediaindex?ref_=tt_ov_mi_sm)\n",
    "\n",
    "## 3. Data Understanding\n",
    "The datasets provided for this analysis were collected from different movie review aggregation sites and contain information on the various movie genres and their popularity among critics and viewers.  \n",
    "The datasets include:\n",
    "1. [Box Office Mojo](https://www.boxofficemojo.com/) \n",
    "2. [IMDB](https://www.imdb.com/)\n",
    "3. [Rotten Tomatoes](https://www.rottentomatoes.com/)\n",
    "4. [The Movie DB](https://www.themoviedb.org/)\n",
    "5. [The Numbers](https://www.the-numbers.com/)\n",
    "\n",
    "For this analysis, datasets 1 to 3 were used.\n",
    "Their features are as follows:\n",
    "\n",
    "**3.1. From Box Office Mojo**\n",
    "- `title` - Name of the movie.\n",
    "- `studio` - The studio that produced it.\n",
    "- `domestic_gross` - The amount of gross earnings from its mother country.\n",
    "- `foreign_gross` - The amount of gross earnings from elsewhere around the world.\n",
    "- `year` - The year it was released.\n",
    "\n",
    "**3.2. From Rotten Tomatoes**\n",
    "\n",
    "Data from Rotten Tomatoes has been divided into two datasets. The first one contains information about the movie itself while the second one contains information about how the audience and critics have rated and reviewed the movies. The features are as follows:\n",
    "    \n",
    "**3.2.1. Rotten Tomatoes Movies Information:**\n",
    "\n",
    "- `id` - Unique id for each movie.\n",
    "- `synopsis` - A brief note on the premise of the movie.\n",
    "- `rating` - Classification of the movie based on suitability for audiences. These classifications are as seen on [Wikipedia](https://en.wikipedia.org/wiki/Motion_Picture_Association_film_rating_system#:~:text=The%20ratings%20used%20from%201984,No%20one%20under%2017%20admitted.):\n",
    "     - R :- Restricted: Under 17 requires accompanying parent or adult guardian\n",
    "     - PG-13 :- Some material may be inappropriate for children under 13\n",
    "     - PG :- Some material may not be suitable for children\n",
    "     - G :- All ages admitted\n",
    "     - NR :- Not rated\n",
    "- `genre` - A movie's category based on the plot.\n",
    "- `director` - The movie's director.\n",
    "- `writer` - The movie's writer.\n",
    "- `theater_date` - The date the movie was released in theaters.\n",
    "- `dvd_date` - The date the movie was released in dvd format.\n",
    "- `runtime` - The total length of the movie.\n",
    "\n",
    "**3.2.2. Rotten Tomatoes Review Information:**\n",
    "\n",
    "- `review` - A review on the movie by a user.\n",
    "- `rating` - How a user rates the movie.\n",
    "- `fresh` - Rotten Tomatoes rating system, the [Tomatometer](https://www.rottentomatoes.com/about#whatisthetomatometer), where fresh means more than 60% of the movie reviews are positive, rotten means less than 60% of the reviews are positive.\n",
    "- `critic` - Name of the person leaving the review.\n",
    "- `top_critic` - A categorical column where 1 represents the top critic for the movie being reviewed.\n",
    "- `publisher` - The publisher of the review.\n",
    "- `date` - The date the review was written.\n",
    "\n",
    "**3.3. From IMDB Movies:**\n",
    "- `movie_id` - Unique id for each movie.\n",
    "- `primary_title` - The title of the movie once it is internationally released.\n",
    "- `original_title` - Original title of the movie.\n",
    "- `start_year` - The year the movie was released.\n",
    "- `runtime_minutes` - The total length of the movie.\n",
    "- `averagerating` - The average rating out of 10. \n",
    "- `numvotes` - Number of votes made to rate the movie.\n",
    "\n",
    "## 4. Requirements\n",
    "1. Load the data with pandas and explore the dataframes.\n",
    "2. Clean the data by dealing with:\n",
    "    - missing values\n",
    "    - duplicate rows\n",
    "    - invalid data\n",
    "    - outliers\n",
    "3. Perform exploratory analysis in order to answer the business questions.\n",
    "4. Conclusion.\n",
    "5. Recommendations.\n",
    "\n"
   ]
  },
  {
   "cell_type": "markdown",
   "metadata": {},
   "source": [
    "## 5. Loading the Data\n",
    "### 5.1 Importing the Libraries\n",
    "All the relevant libraries for this notebook are imported"
   ]
  },
  {
   "cell_type": "code",
   "execution_count": 101,
   "metadata": {
    "scrolled": true
   },
   "outputs": [],
   "source": [
    "#importing relevant libraries\n",
    "import pandas as pd\n",
    "import matplotlib.pyplot as plt\n",
    "import sqlite3\n",
    "import numpy as np\n",
    "import seaborn as sns\n",
    "%matplotlib inline"
   ]
  },
  {
   "cell_type": "markdown",
   "metadata": {},
   "source": [
    "### 5.2 Loading the Datasets"
   ]
  },
  {
   "cell_type": "code",
   "execution_count": 102,
   "metadata": {},
   "outputs": [],
   "source": [
    "#opening a connection to the imdb database\n",
    "conn = sqlite3.connect(\"zippedData/im.db\")"
   ]
  },
  {
   "cell_type": "code",
   "execution_count": 103,
   "metadata": {},
   "outputs": [],
   "source": [
    "#loading the datasets\n",
    "bom_movies = pd.read_csv('zippedData/bom.movie_gross.csv.gz')\n",
    "rt_movies = pd.read_csv('zippedData/rt.movie_info.tsv.gz',delimiter = '\\t')\n",
    "rt_reviews = pd.read_csv('zippedData/rt.reviews.tsv.gz',delimiter = \"\\t\",encoding='latin-1')"
   ]
  },
  {
   "cell_type": "markdown",
   "metadata": {},
   "source": [
    "### 5.3 Exploring the Dataframes\n",
    "**a. IMDB movies**"
   ]
  },
  {
   "cell_type": "code",
   "execution_count": 104,
   "metadata": {
    "scrolled": true
   },
   "outputs": [
    {
     "data": {
      "text/html": [
       "<div>\n",
       "<style scoped>\n",
       "    .dataframe tbody tr th:only-of-type {\n",
       "        vertical-align: middle;\n",
       "    }\n",
       "\n",
       "    .dataframe tbody tr th {\n",
       "        vertical-align: top;\n",
       "    }\n",
       "\n",
       "    .dataframe thead th {\n",
       "        text-align: right;\n",
       "    }\n",
       "</style>\n",
       "<table border=\"1\" class=\"dataframe\">\n",
       "  <thead>\n",
       "    <tr style=\"text-align: right;\">\n",
       "      <th></th>\n",
       "      <th>TableNames</th>\n",
       "    </tr>\n",
       "  </thead>\n",
       "  <tbody>\n",
       "    <tr>\n",
       "      <th>0</th>\n",
       "      <td>movie_basics</td>\n",
       "    </tr>\n",
       "    <tr>\n",
       "      <th>1</th>\n",
       "      <td>directors</td>\n",
       "    </tr>\n",
       "    <tr>\n",
       "      <th>2</th>\n",
       "      <td>known_for</td>\n",
       "    </tr>\n",
       "    <tr>\n",
       "      <th>3</th>\n",
       "      <td>movie_akas</td>\n",
       "    </tr>\n",
       "    <tr>\n",
       "      <th>4</th>\n",
       "      <td>movie_ratings</td>\n",
       "    </tr>\n",
       "    <tr>\n",
       "      <th>5</th>\n",
       "      <td>persons</td>\n",
       "    </tr>\n",
       "    <tr>\n",
       "      <th>6</th>\n",
       "      <td>principals</td>\n",
       "    </tr>\n",
       "    <tr>\n",
       "      <th>7</th>\n",
       "      <td>writers</td>\n",
       "    </tr>\n",
       "  </tbody>\n",
       "</table>\n",
       "</div>"
      ],
      "text/plain": [
       "      TableNames\n",
       "0   movie_basics\n",
       "1      directors\n",
       "2      known_for\n",
       "3     movie_akas\n",
       "4  movie_ratings\n",
       "5        persons\n",
       "6     principals\n",
       "7        writers"
      ]
     },
     "execution_count": 104,
     "metadata": {},
     "output_type": "execute_result"
    }
   ],
   "source": [
    "#viewing the list of tables in the imdb database\n",
    "imdb_tables = pd.read_sql(\"\"\"\n",
    "SELECT name TableNames\n",
    "FROM sqlite_master\n",
    "WHERE type = 'table'\n",
    ";\n",
    "\"\"\",conn)\n",
    "imdb_tables"
   ]
  },
  {
   "cell_type": "code",
   "execution_count": 105,
   "metadata": {},
   "outputs": [
    {
     "data": {
      "text/html": [
       "<div>\n",
       "<style scoped>\n",
       "    .dataframe tbody tr th:only-of-type {\n",
       "        vertical-align: middle;\n",
       "    }\n",
       "\n",
       "    .dataframe tbody tr th {\n",
       "        vertical-align: top;\n",
       "    }\n",
       "\n",
       "    .dataframe thead th {\n",
       "        text-align: right;\n",
       "    }\n",
       "</style>\n",
       "<table border=\"1\" class=\"dataframe\">\n",
       "  <thead>\n",
       "    <tr style=\"text-align: right;\">\n",
       "      <th></th>\n",
       "      <th>movie_id</th>\n",
       "      <th>person_id</th>\n",
       "    </tr>\n",
       "  </thead>\n",
       "  <tbody>\n",
       "    <tr>\n",
       "      <th>0</th>\n",
       "      <td>tt0285252</td>\n",
       "      <td>nm0899854</td>\n",
       "    </tr>\n",
       "    <tr>\n",
       "      <th>1</th>\n",
       "      <td>tt0462036</td>\n",
       "      <td>nm1940585</td>\n",
       "    </tr>\n",
       "    <tr>\n",
       "      <th>2</th>\n",
       "      <td>tt0835418</td>\n",
       "      <td>nm0151540</td>\n",
       "    </tr>\n",
       "    <tr>\n",
       "      <th>3</th>\n",
       "      <td>tt0835418</td>\n",
       "      <td>nm0151540</td>\n",
       "    </tr>\n",
       "    <tr>\n",
       "      <th>4</th>\n",
       "      <td>tt0878654</td>\n",
       "      <td>nm0089502</td>\n",
       "    </tr>\n",
       "  </tbody>\n",
       "</table>\n",
       "</div>"
      ],
      "text/plain": [
       "    movie_id  person_id\n",
       "0  tt0285252  nm0899854\n",
       "1  tt0462036  nm1940585\n",
       "2  tt0835418  nm0151540\n",
       "3  tt0835418  nm0151540\n",
       "4  tt0878654  nm0089502"
      ]
     },
     "execution_count": 105,
     "metadata": {},
     "output_type": "execute_result"
    }
   ],
   "source": [
    "#previewing the directors table\n",
    "q = pd.read_sql(\"\"\"\n",
    "SELECT *\n",
    "FROM directors\n",
    ";\n",
    "\"\"\",conn)\n",
    "q.head()"
   ]
  },
  {
   "cell_type": "code",
   "execution_count": 106,
   "metadata": {
    "scrolled": true
   },
   "outputs": [
    {
     "data": {
      "text/html": [
       "<div>\n",
       "<style scoped>\n",
       "    .dataframe tbody tr th:only-of-type {\n",
       "        vertical-align: middle;\n",
       "    }\n",
       "\n",
       "    .dataframe tbody tr th {\n",
       "        vertical-align: top;\n",
       "    }\n",
       "\n",
       "    .dataframe thead th {\n",
       "        text-align: right;\n",
       "    }\n",
       "</style>\n",
       "<table border=\"1\" class=\"dataframe\">\n",
       "  <thead>\n",
       "    <tr style=\"text-align: right;\">\n",
       "      <th></th>\n",
       "      <th>movie_id</th>\n",
       "      <th>averagerating</th>\n",
       "      <th>numvotes</th>\n",
       "    </tr>\n",
       "  </thead>\n",
       "  <tbody>\n",
       "    <tr>\n",
       "      <th>0</th>\n",
       "      <td>tt10356526</td>\n",
       "      <td>8.3</td>\n",
       "      <td>31</td>\n",
       "    </tr>\n",
       "    <tr>\n",
       "      <th>1</th>\n",
       "      <td>tt10384606</td>\n",
       "      <td>8.9</td>\n",
       "      <td>559</td>\n",
       "    </tr>\n",
       "    <tr>\n",
       "      <th>2</th>\n",
       "      <td>tt1042974</td>\n",
       "      <td>6.4</td>\n",
       "      <td>20</td>\n",
       "    </tr>\n",
       "    <tr>\n",
       "      <th>3</th>\n",
       "      <td>tt1043726</td>\n",
       "      <td>4.2</td>\n",
       "      <td>50352</td>\n",
       "    </tr>\n",
       "    <tr>\n",
       "      <th>4</th>\n",
       "      <td>tt1060240</td>\n",
       "      <td>6.5</td>\n",
       "      <td>21</td>\n",
       "    </tr>\n",
       "  </tbody>\n",
       "</table>\n",
       "</div>"
      ],
      "text/plain": [
       "     movie_id  averagerating  numvotes\n",
       "0  tt10356526            8.3        31\n",
       "1  tt10384606            8.9       559\n",
       "2   tt1042974            6.4        20\n",
       "3   tt1043726            4.2     50352\n",
       "4   tt1060240            6.5        21"
      ]
     },
     "execution_count": 106,
     "metadata": {},
     "output_type": "execute_result"
    }
   ],
   "source": [
    "#previewing movie_ratings table\n",
    "q1 = pd.read_sql(\"\"\"\n",
    "SELECT *\n",
    "FROM movie_ratings\n",
    ";\n",
    "\"\"\",conn)\n",
    "q1.head()"
   ]
  },
  {
   "cell_type": "code",
   "execution_count": 107,
   "metadata": {
    "scrolled": false
   },
   "outputs": [
    {
     "data": {
      "text/html": [
       "<div>\n",
       "<style scoped>\n",
       "    .dataframe tbody tr th:only-of-type {\n",
       "        vertical-align: middle;\n",
       "    }\n",
       "\n",
       "    .dataframe tbody tr th {\n",
       "        vertical-align: top;\n",
       "    }\n",
       "\n",
       "    .dataframe thead th {\n",
       "        text-align: right;\n",
       "    }\n",
       "</style>\n",
       "<table border=\"1\" class=\"dataframe\">\n",
       "  <thead>\n",
       "    <tr style=\"text-align: right;\">\n",
       "      <th></th>\n",
       "      <th>movie_id</th>\n",
       "      <th>primary_title</th>\n",
       "      <th>original_title</th>\n",
       "      <th>start_year</th>\n",
       "      <th>runtime_minutes</th>\n",
       "      <th>genres</th>\n",
       "    </tr>\n",
       "  </thead>\n",
       "  <tbody>\n",
       "    <tr>\n",
       "      <th>0</th>\n",
       "      <td>tt0063540</td>\n",
       "      <td>Sunghursh</td>\n",
       "      <td>Sunghursh</td>\n",
       "      <td>2013</td>\n",
       "      <td>175.0</td>\n",
       "      <td>Action,Crime,Drama</td>\n",
       "    </tr>\n",
       "    <tr>\n",
       "      <th>1</th>\n",
       "      <td>tt0066787</td>\n",
       "      <td>One Day Before the Rainy Season</td>\n",
       "      <td>Ashad Ka Ek Din</td>\n",
       "      <td>2019</td>\n",
       "      <td>114.0</td>\n",
       "      <td>Biography,Drama</td>\n",
       "    </tr>\n",
       "    <tr>\n",
       "      <th>2</th>\n",
       "      <td>tt0069049</td>\n",
       "      <td>The Other Side of the Wind</td>\n",
       "      <td>The Other Side of the Wind</td>\n",
       "      <td>2018</td>\n",
       "      <td>122.0</td>\n",
       "      <td>Drama</td>\n",
       "    </tr>\n",
       "    <tr>\n",
       "      <th>3</th>\n",
       "      <td>tt0069204</td>\n",
       "      <td>Sabse Bada Sukh</td>\n",
       "      <td>Sabse Bada Sukh</td>\n",
       "      <td>2018</td>\n",
       "      <td>NaN</td>\n",
       "      <td>Comedy,Drama</td>\n",
       "    </tr>\n",
       "    <tr>\n",
       "      <th>4</th>\n",
       "      <td>tt0100275</td>\n",
       "      <td>The Wandering Soap Opera</td>\n",
       "      <td>La Telenovela Errante</td>\n",
       "      <td>2017</td>\n",
       "      <td>80.0</td>\n",
       "      <td>Comedy,Drama,Fantasy</td>\n",
       "    </tr>\n",
       "  </tbody>\n",
       "</table>\n",
       "</div>"
      ],
      "text/plain": [
       "    movie_id                    primary_title              original_title  \\\n",
       "0  tt0063540                        Sunghursh                   Sunghursh   \n",
       "1  tt0066787  One Day Before the Rainy Season             Ashad Ka Ek Din   \n",
       "2  tt0069049       The Other Side of the Wind  The Other Side of the Wind   \n",
       "3  tt0069204                  Sabse Bada Sukh             Sabse Bada Sukh   \n",
       "4  tt0100275         The Wandering Soap Opera       La Telenovela Errante   \n",
       "\n",
       "   start_year  runtime_minutes                genres  \n",
       "0        2013            175.0    Action,Crime,Drama  \n",
       "1        2019            114.0       Biography,Drama  \n",
       "2        2018            122.0                 Drama  \n",
       "3        2018              NaN          Comedy,Drama  \n",
       "4        2017             80.0  Comedy,Drama,Fantasy  "
      ]
     },
     "execution_count": 107,
     "metadata": {},
     "output_type": "execute_result"
    }
   ],
   "source": [
    "#previewing movie_basics table\n",
    "q2 = pd.read_sql(\"\"\"\n",
    "SELECT *\n",
    "FROM movie_basics\n",
    ";\n",
    "\"\"\",conn)\n",
    "q2.head()"
   ]
  },
  {
   "cell_type": "code",
   "execution_count": 108,
   "metadata": {
    "scrolled": true
   },
   "outputs": [
    {
     "data": {
      "text/html": [
       "<div>\n",
       "<style scoped>\n",
       "    .dataframe tbody tr th:only-of-type {\n",
       "        vertical-align: middle;\n",
       "    }\n",
       "\n",
       "    .dataframe tbody tr th {\n",
       "        vertical-align: top;\n",
       "    }\n",
       "\n",
       "    .dataframe thead th {\n",
       "        text-align: right;\n",
       "    }\n",
       "</style>\n",
       "<table border=\"1\" class=\"dataframe\">\n",
       "  <thead>\n",
       "    <tr style=\"text-align: right;\">\n",
       "      <th></th>\n",
       "      <th>person_id</th>\n",
       "      <th>primary_name</th>\n",
       "      <th>birth_year</th>\n",
       "      <th>death_year</th>\n",
       "      <th>primary_profession</th>\n",
       "    </tr>\n",
       "  </thead>\n",
       "  <tbody>\n",
       "    <tr>\n",
       "      <th>0</th>\n",
       "      <td>nm0061671</td>\n",
       "      <td>Mary Ellen Bauder</td>\n",
       "      <td>NaN</td>\n",
       "      <td>NaN</td>\n",
       "      <td>miscellaneous,production_manager,producer</td>\n",
       "    </tr>\n",
       "    <tr>\n",
       "      <th>1</th>\n",
       "      <td>nm0061865</td>\n",
       "      <td>Joseph Bauer</td>\n",
       "      <td>NaN</td>\n",
       "      <td>NaN</td>\n",
       "      <td>composer,music_department,sound_department</td>\n",
       "    </tr>\n",
       "    <tr>\n",
       "      <th>2</th>\n",
       "      <td>nm0062070</td>\n",
       "      <td>Bruce Baum</td>\n",
       "      <td>NaN</td>\n",
       "      <td>NaN</td>\n",
       "      <td>miscellaneous,actor,writer</td>\n",
       "    </tr>\n",
       "    <tr>\n",
       "      <th>3</th>\n",
       "      <td>nm0062195</td>\n",
       "      <td>Axel Baumann</td>\n",
       "      <td>NaN</td>\n",
       "      <td>NaN</td>\n",
       "      <td>camera_department,cinematographer,art_department</td>\n",
       "    </tr>\n",
       "    <tr>\n",
       "      <th>4</th>\n",
       "      <td>nm0062798</td>\n",
       "      <td>Pete Baxter</td>\n",
       "      <td>NaN</td>\n",
       "      <td>NaN</td>\n",
       "      <td>production_designer,art_department,set_decorator</td>\n",
       "    </tr>\n",
       "  </tbody>\n",
       "</table>\n",
       "</div>"
      ],
      "text/plain": [
       "   person_id       primary_name  birth_year  death_year  \\\n",
       "0  nm0061671  Mary Ellen Bauder         NaN         NaN   \n",
       "1  nm0061865       Joseph Bauer         NaN         NaN   \n",
       "2  nm0062070         Bruce Baum         NaN         NaN   \n",
       "3  nm0062195       Axel Baumann         NaN         NaN   \n",
       "4  nm0062798        Pete Baxter         NaN         NaN   \n",
       "\n",
       "                                 primary_profession  \n",
       "0         miscellaneous,production_manager,producer  \n",
       "1        composer,music_department,sound_department  \n",
       "2                        miscellaneous,actor,writer  \n",
       "3  camera_department,cinematographer,art_department  \n",
       "4  production_designer,art_department,set_decorator  "
      ]
     },
     "execution_count": 108,
     "metadata": {},
     "output_type": "execute_result"
    }
   ],
   "source": [
    "#previewing the persons table\n",
    "q3 = pd.read_sql(\"\"\"\n",
    "SELECT *\n",
    "FROM persons\n",
    ";\n",
    "\"\"\",conn)\n",
    "q3.head()"
   ]
  },
  {
   "cell_type": "markdown",
   "metadata": {},
   "source": [
    "movie_basics can be joined to movie_ratings, directors and persons table."
   ]
  },
  {
   "cell_type": "code",
   "execution_count": 109,
   "metadata": {
    "scrolled": true
   },
   "outputs": [
    {
     "data": {
      "text/html": [
       "<div>\n",
       "<style scoped>\n",
       "    .dataframe tbody tr th:only-of-type {\n",
       "        vertical-align: middle;\n",
       "    }\n",
       "\n",
       "    .dataframe tbody tr th {\n",
       "        vertical-align: top;\n",
       "    }\n",
       "\n",
       "    .dataframe thead th {\n",
       "        text-align: right;\n",
       "    }\n",
       "</style>\n",
       "<table border=\"1\" class=\"dataframe\">\n",
       "  <thead>\n",
       "    <tr style=\"text-align: right;\">\n",
       "      <th></th>\n",
       "      <th>movie_id</th>\n",
       "      <th>primary_title</th>\n",
       "      <th>original_title</th>\n",
       "      <th>start_year</th>\n",
       "      <th>runtime_minutes</th>\n",
       "      <th>genres</th>\n",
       "      <th>averagerating</th>\n",
       "      <th>numvotes</th>\n",
       "      <th>person_id</th>\n",
       "      <th>primary_name</th>\n",
       "      <th>birth_year</th>\n",
       "      <th>death_year</th>\n",
       "      <th>primary_profession</th>\n",
       "    </tr>\n",
       "  </thead>\n",
       "  <tbody>\n",
       "    <tr>\n",
       "      <th>0</th>\n",
       "      <td>tt0063540</td>\n",
       "      <td>Sunghursh</td>\n",
       "      <td>Sunghursh</td>\n",
       "      <td>2013</td>\n",
       "      <td>175.0</td>\n",
       "      <td>Action,Crime,Drama</td>\n",
       "      <td>7.0</td>\n",
       "      <td>77</td>\n",
       "      <td>nm0712540</td>\n",
       "      <td>Harnam Singh Rawail</td>\n",
       "      <td>1921.0</td>\n",
       "      <td>2004.0</td>\n",
       "      <td>director,writer,producer</td>\n",
       "    </tr>\n",
       "    <tr>\n",
       "      <th>1</th>\n",
       "      <td>tt0063540</td>\n",
       "      <td>Sunghursh</td>\n",
       "      <td>Sunghursh</td>\n",
       "      <td>2013</td>\n",
       "      <td>175.0</td>\n",
       "      <td>Action,Crime,Drama</td>\n",
       "      <td>7.0</td>\n",
       "      <td>77</td>\n",
       "      <td>nm0712540</td>\n",
       "      <td>Harnam Singh Rawail</td>\n",
       "      <td>1921.0</td>\n",
       "      <td>2004.0</td>\n",
       "      <td>director,writer,producer</td>\n",
       "    </tr>\n",
       "    <tr>\n",
       "      <th>2</th>\n",
       "      <td>tt0063540</td>\n",
       "      <td>Sunghursh</td>\n",
       "      <td>Sunghursh</td>\n",
       "      <td>2013</td>\n",
       "      <td>175.0</td>\n",
       "      <td>Action,Crime,Drama</td>\n",
       "      <td>7.0</td>\n",
       "      <td>77</td>\n",
       "      <td>nm0712540</td>\n",
       "      <td>Harnam Singh Rawail</td>\n",
       "      <td>1921.0</td>\n",
       "      <td>2004.0</td>\n",
       "      <td>director,writer,producer</td>\n",
       "    </tr>\n",
       "    <tr>\n",
       "      <th>3</th>\n",
       "      <td>tt0063540</td>\n",
       "      <td>Sunghursh</td>\n",
       "      <td>Sunghursh</td>\n",
       "      <td>2013</td>\n",
       "      <td>175.0</td>\n",
       "      <td>Action,Crime,Drama</td>\n",
       "      <td>7.0</td>\n",
       "      <td>77</td>\n",
       "      <td>nm0712540</td>\n",
       "      <td>Harnam Singh Rawail</td>\n",
       "      <td>1921.0</td>\n",
       "      <td>2004.0</td>\n",
       "      <td>director,writer,producer</td>\n",
       "    </tr>\n",
       "    <tr>\n",
       "      <th>4</th>\n",
       "      <td>tt0066787</td>\n",
       "      <td>One Day Before the Rainy Season</td>\n",
       "      <td>Ashad Ka Ek Din</td>\n",
       "      <td>2019</td>\n",
       "      <td>114.0</td>\n",
       "      <td>Biography,Drama</td>\n",
       "      <td>7.2</td>\n",
       "      <td>43</td>\n",
       "      <td>nm0002411</td>\n",
       "      <td>Mani Kaul</td>\n",
       "      <td>1944.0</td>\n",
       "      <td>2011.0</td>\n",
       "      <td>director,writer,actor</td>\n",
       "    </tr>\n",
       "  </tbody>\n",
       "</table>\n",
       "</div>"
      ],
      "text/plain": [
       "    movie_id                    primary_title   original_title  start_year  \\\n",
       "0  tt0063540                        Sunghursh        Sunghursh        2013   \n",
       "1  tt0063540                        Sunghursh        Sunghursh        2013   \n",
       "2  tt0063540                        Sunghursh        Sunghursh        2013   \n",
       "3  tt0063540                        Sunghursh        Sunghursh        2013   \n",
       "4  tt0066787  One Day Before the Rainy Season  Ashad Ka Ek Din        2019   \n",
       "\n",
       "   runtime_minutes              genres  averagerating  numvotes  person_id  \\\n",
       "0            175.0  Action,Crime,Drama            7.0        77  nm0712540   \n",
       "1            175.0  Action,Crime,Drama            7.0        77  nm0712540   \n",
       "2            175.0  Action,Crime,Drama            7.0        77  nm0712540   \n",
       "3            175.0  Action,Crime,Drama            7.0        77  nm0712540   \n",
       "4            114.0     Biography,Drama            7.2        43  nm0002411   \n",
       "\n",
       "          primary_name  birth_year  death_year        primary_profession  \n",
       "0  Harnam Singh Rawail      1921.0      2004.0  director,writer,producer  \n",
       "1  Harnam Singh Rawail      1921.0      2004.0  director,writer,producer  \n",
       "2  Harnam Singh Rawail      1921.0      2004.0  director,writer,producer  \n",
       "3  Harnam Singh Rawail      1921.0      2004.0  director,writer,producer  \n",
       "4            Mani Kaul      1944.0      2011.0     director,writer,actor  "
      ]
     },
     "execution_count": 109,
     "metadata": {},
     "output_type": "execute_result"
    }
   ],
   "source": [
    "#joining movie_basics to movie_ratings on movie_id and previewing the top\n",
    "imdb = pd.read_sql(\"\"\"\n",
    "SELECT *\n",
    "FROM movie_basics b\n",
    "JOIN movie_ratings r\n",
    "USING (movie_id)\n",
    "JOIN directors d\n",
    "USING (movie_id)\n",
    "JOIN persons p\n",
    "USING (person_id)\n",
    ";\n",
    "\"\"\",conn)\n",
    "imdb.head()"
   ]
  },
  {
   "cell_type": "code",
   "execution_count": 110,
   "metadata": {},
   "outputs": [],
   "source": [
    "#closing the connection to the database\n",
    "conn.close()"
   ]
  },
  {
   "cell_type": "code",
   "execution_count": 111,
   "metadata": {},
   "outputs": [
    {
     "data": {
      "text/html": [
       "<div>\n",
       "<style scoped>\n",
       "    .dataframe tbody tr th:only-of-type {\n",
       "        vertical-align: middle;\n",
       "    }\n",
       "\n",
       "    .dataframe tbody tr th {\n",
       "        vertical-align: top;\n",
       "    }\n",
       "\n",
       "    .dataframe thead th {\n",
       "        text-align: right;\n",
       "    }\n",
       "</style>\n",
       "<table border=\"1\" class=\"dataframe\">\n",
       "  <thead>\n",
       "    <tr style=\"text-align: right;\">\n",
       "      <th></th>\n",
       "      <th>movie_id</th>\n",
       "      <th>primary_title</th>\n",
       "      <th>original_title</th>\n",
       "      <th>start_year</th>\n",
       "      <th>runtime_minutes</th>\n",
       "      <th>genres</th>\n",
       "      <th>averagerating</th>\n",
       "      <th>numvotes</th>\n",
       "      <th>person_id</th>\n",
       "      <th>primary_name</th>\n",
       "      <th>birth_year</th>\n",
       "      <th>death_year</th>\n",
       "      <th>primary_profession</th>\n",
       "    </tr>\n",
       "  </thead>\n",
       "  <tbody>\n",
       "    <tr>\n",
       "      <th>181382</th>\n",
       "      <td>tt9914642</td>\n",
       "      <td>Albatross</td>\n",
       "      <td>Albatross</td>\n",
       "      <td>2017</td>\n",
       "      <td>NaN</td>\n",
       "      <td>Documentary</td>\n",
       "      <td>8.5</td>\n",
       "      <td>8</td>\n",
       "      <td>nm5300859</td>\n",
       "      <td>Chris Jordan</td>\n",
       "      <td>NaN</td>\n",
       "      <td>NaN</td>\n",
       "      <td>director,writer,editor</td>\n",
       "    </tr>\n",
       "    <tr>\n",
       "      <th>181383</th>\n",
       "      <td>tt9914642</td>\n",
       "      <td>Albatross</td>\n",
       "      <td>Albatross</td>\n",
       "      <td>2017</td>\n",
       "      <td>NaN</td>\n",
       "      <td>Documentary</td>\n",
       "      <td>8.5</td>\n",
       "      <td>8</td>\n",
       "      <td>nm5300859</td>\n",
       "      <td>Chris Jordan</td>\n",
       "      <td>NaN</td>\n",
       "      <td>NaN</td>\n",
       "      <td>director,writer,editor</td>\n",
       "    </tr>\n",
       "    <tr>\n",
       "      <th>181384</th>\n",
       "      <td>tt9914942</td>\n",
       "      <td>La vida sense la Sara Amat</td>\n",
       "      <td>La vida sense la Sara Amat</td>\n",
       "      <td>2019</td>\n",
       "      <td>NaN</td>\n",
       "      <td>None</td>\n",
       "      <td>6.6</td>\n",
       "      <td>5</td>\n",
       "      <td>nm1716653</td>\n",
       "      <td>Laura Jou</td>\n",
       "      <td>NaN</td>\n",
       "      <td>NaN</td>\n",
       "      <td>miscellaneous,actress,director</td>\n",
       "    </tr>\n",
       "    <tr>\n",
       "      <th>181385</th>\n",
       "      <td>tt9914942</td>\n",
       "      <td>La vida sense la Sara Amat</td>\n",
       "      <td>La vida sense la Sara Amat</td>\n",
       "      <td>2019</td>\n",
       "      <td>NaN</td>\n",
       "      <td>None</td>\n",
       "      <td>6.6</td>\n",
       "      <td>5</td>\n",
       "      <td>nm1716653</td>\n",
       "      <td>Laura Jou</td>\n",
       "      <td>NaN</td>\n",
       "      <td>NaN</td>\n",
       "      <td>miscellaneous,actress,director</td>\n",
       "    </tr>\n",
       "    <tr>\n",
       "      <th>181386</th>\n",
       "      <td>tt9916160</td>\n",
       "      <td>Drømmeland</td>\n",
       "      <td>Drømmeland</td>\n",
       "      <td>2019</td>\n",
       "      <td>72.0</td>\n",
       "      <td>Documentary</td>\n",
       "      <td>6.5</td>\n",
       "      <td>11</td>\n",
       "      <td>nm5684093</td>\n",
       "      <td>Joost van der Wiel</td>\n",
       "      <td>NaN</td>\n",
       "      <td>NaN</td>\n",
       "      <td>director,cinematographer,writer</td>\n",
       "    </tr>\n",
       "  </tbody>\n",
       "</table>\n",
       "</div>"
      ],
      "text/plain": [
       "         movie_id               primary_title              original_title  \\\n",
       "181382  tt9914642                   Albatross                   Albatross   \n",
       "181383  tt9914642                   Albatross                   Albatross   \n",
       "181384  tt9914942  La vida sense la Sara Amat  La vida sense la Sara Amat   \n",
       "181385  tt9914942  La vida sense la Sara Amat  La vida sense la Sara Amat   \n",
       "181386  tt9916160                  Drømmeland                  Drømmeland   \n",
       "\n",
       "        start_year  runtime_minutes       genres  averagerating  numvotes  \\\n",
       "181382        2017              NaN  Documentary            8.5         8   \n",
       "181383        2017              NaN  Documentary            8.5         8   \n",
       "181384        2019              NaN         None            6.6         5   \n",
       "181385        2019              NaN         None            6.6         5   \n",
       "181386        2019             72.0  Documentary            6.5        11   \n",
       "\n",
       "        person_id        primary_name  birth_year  death_year  \\\n",
       "181382  nm5300859        Chris Jordan         NaN         NaN   \n",
       "181383  nm5300859        Chris Jordan         NaN         NaN   \n",
       "181384  nm1716653           Laura Jou         NaN         NaN   \n",
       "181385  nm1716653           Laura Jou         NaN         NaN   \n",
       "181386  nm5684093  Joost van der Wiel         NaN         NaN   \n",
       "\n",
       "                     primary_profession  \n",
       "181382           director,writer,editor  \n",
       "181383           director,writer,editor  \n",
       "181384   miscellaneous,actress,director  \n",
       "181385   miscellaneous,actress,director  \n",
       "181386  director,cinematographer,writer  "
      ]
     },
     "execution_count": 111,
     "metadata": {},
     "output_type": "execute_result"
    }
   ],
   "source": [
    "#previewing the bottom of the imdb dataframe\n",
    "imdb.tail()"
   ]
  },
  {
   "cell_type": "code",
   "execution_count": 112,
   "metadata": {},
   "outputs": [
    {
     "data": {
      "text/plain": [
       "(181387, 13)"
      ]
     },
     "execution_count": 112,
     "metadata": {},
     "output_type": "execute_result"
    }
   ],
   "source": [
    "#determining the number of records in the imdb dataframe\n",
    "imdb.shape"
   ]
  },
  {
   "cell_type": "code",
   "execution_count": 113,
   "metadata": {},
   "outputs": [
    {
     "name": "stdout",
     "output_type": "stream",
     "text": [
      "<class 'pandas.core.frame.DataFrame'>\n",
      "RangeIndex: 181387 entries, 0 to 181386\n",
      "Data columns (total 13 columns):\n",
      " #   Column              Non-Null Count   Dtype  \n",
      "---  ------              --------------   -----  \n",
      " 0   movie_id            181387 non-null  object \n",
      " 1   primary_title       181387 non-null  object \n",
      " 2   original_title      181387 non-null  object \n",
      " 3   start_year          181387 non-null  int64  \n",
      " 4   runtime_minutes     163584 non-null  float64\n",
      " 5   genres              180047 non-null  object \n",
      " 6   averagerating       181387 non-null  float64\n",
      " 7   numvotes            181387 non-null  int64  \n",
      " 8   person_id           181387 non-null  object \n",
      " 9   primary_name        181387 non-null  object \n",
      " 10  birth_year          54805 non-null   float64\n",
      " 11  death_year          1342 non-null    float64\n",
      " 12  primary_profession  181262 non-null  object \n",
      "dtypes: float64(4), int64(2), object(7)\n",
      "memory usage: 18.0+ MB\n"
     ]
    }
   ],
   "source": [
    "#checking the information\n",
    "imdb.info()"
   ]
  },
  {
   "cell_type": "code",
   "execution_count": 114,
   "metadata": {
    "scrolled": true
   },
   "outputs": [
    {
     "data": {
      "text/html": [
       "<div>\n",
       "<style scoped>\n",
       "    .dataframe tbody tr th:only-of-type {\n",
       "        vertical-align: middle;\n",
       "    }\n",
       "\n",
       "    .dataframe tbody tr th {\n",
       "        vertical-align: top;\n",
       "    }\n",
       "\n",
       "    .dataframe thead th {\n",
       "        text-align: right;\n",
       "    }\n",
       "</style>\n",
       "<table border=\"1\" class=\"dataframe\">\n",
       "  <thead>\n",
       "    <tr style=\"text-align: right;\">\n",
       "      <th></th>\n",
       "      <th>start_year</th>\n",
       "      <th>runtime_minutes</th>\n",
       "      <th>averagerating</th>\n",
       "      <th>numvotes</th>\n",
       "      <th>birth_year</th>\n",
       "      <th>death_year</th>\n",
       "    </tr>\n",
       "  </thead>\n",
       "  <tbody>\n",
       "    <tr>\n",
       "      <th>count</th>\n",
       "      <td>181387.000000</td>\n",
       "      <td>163584.000000</td>\n",
       "      <td>181387.000000</td>\n",
       "      <td>1.813870e+05</td>\n",
       "      <td>54805.000000</td>\n",
       "      <td>1342.000000</td>\n",
       "    </tr>\n",
       "    <tr>\n",
       "      <th>mean</th>\n",
       "      <td>2014.309802</td>\n",
       "      <td>97.789484</td>\n",
       "      <td>6.217683</td>\n",
       "      <td>4.955524e+03</td>\n",
       "      <td>1969.097856</td>\n",
       "      <td>2014.908346</td>\n",
       "    </tr>\n",
       "    <tr>\n",
       "      <th>std</th>\n",
       "      <td>2.536111</td>\n",
       "      <td>194.434689</td>\n",
       "      <td>1.388026</td>\n",
       "      <td>3.760931e+04</td>\n",
       "      <td>12.499740</td>\n",
       "      <td>4.866581</td>\n",
       "    </tr>\n",
       "    <tr>\n",
       "      <th>min</th>\n",
       "      <td>2010.000000</td>\n",
       "      <td>3.000000</td>\n",
       "      <td>1.000000</td>\n",
       "      <td>5.000000e+00</td>\n",
       "      <td>1870.000000</td>\n",
       "      <td>1944.000000</td>\n",
       "    </tr>\n",
       "    <tr>\n",
       "      <th>25%</th>\n",
       "      <td>2012.000000</td>\n",
       "      <td>84.000000</td>\n",
       "      <td>5.400000</td>\n",
       "      <td>1.900000e+01</td>\n",
       "      <td>1962.000000</td>\n",
       "      <td>2014.000000</td>\n",
       "    </tr>\n",
       "    <tr>\n",
       "      <th>50%</th>\n",
       "      <td>2014.000000</td>\n",
       "      <td>94.000000</td>\n",
       "      <td>6.300000</td>\n",
       "      <td>6.600000e+01</td>\n",
       "      <td>1971.000000</td>\n",
       "      <td>2016.000000</td>\n",
       "    </tr>\n",
       "    <tr>\n",
       "      <th>75%</th>\n",
       "      <td>2016.000000</td>\n",
       "      <td>107.000000</td>\n",
       "      <td>7.200000</td>\n",
       "      <td>3.110000e+02</td>\n",
       "      <td>1978.000000</td>\n",
       "      <td>2018.000000</td>\n",
       "    </tr>\n",
       "    <tr>\n",
       "      <th>max</th>\n",
       "      <td>2019.000000</td>\n",
       "      <td>51420.000000</td>\n",
       "      <td>10.000000</td>\n",
       "      <td>1.841066e+06</td>\n",
       "      <td>2004.000000</td>\n",
       "      <td>2019.000000</td>\n",
       "    </tr>\n",
       "  </tbody>\n",
       "</table>\n",
       "</div>"
      ],
      "text/plain": [
       "          start_year  runtime_minutes  averagerating      numvotes  \\\n",
       "count  181387.000000    163584.000000  181387.000000  1.813870e+05   \n",
       "mean     2014.309802        97.789484       6.217683  4.955524e+03   \n",
       "std         2.536111       194.434689       1.388026  3.760931e+04   \n",
       "min      2010.000000         3.000000       1.000000  5.000000e+00   \n",
       "25%      2012.000000        84.000000       5.400000  1.900000e+01   \n",
       "50%      2014.000000        94.000000       6.300000  6.600000e+01   \n",
       "75%      2016.000000       107.000000       7.200000  3.110000e+02   \n",
       "max      2019.000000     51420.000000      10.000000  1.841066e+06   \n",
       "\n",
       "         birth_year   death_year  \n",
       "count  54805.000000  1342.000000  \n",
       "mean    1969.097856  2014.908346  \n",
       "std       12.499740     4.866581  \n",
       "min     1870.000000  1944.000000  \n",
       "25%     1962.000000  2014.000000  \n",
       "50%     1971.000000  2016.000000  \n",
       "75%     1978.000000  2018.000000  \n",
       "max     2004.000000  2019.000000  "
      ]
     },
     "execution_count": 114,
     "metadata": {},
     "output_type": "execute_result"
    }
   ],
   "source": [
    "#previewing the summary statistics of imdb \n",
    "imdb.describe()"
   ]
  },
  {
   "cell_type": "markdown",
   "metadata": {},
   "source": [
    "Observations:\n",
    "1. There are columns with missing data, these are runtime_minutes, genres, birth_year, death_year and primary_profession.\n",
    "2. runtime_minutes has a movie that is 51420 minutes and 3 minutes long and the standard deviation is at 194.4.\n",
    "3. The genres are separated by commas."
   ]
  },
  {
   "cell_type": "markdown",
   "metadata": {},
   "source": [
    "**b. Bom_movies**"
   ]
  },
  {
   "cell_type": "code",
   "execution_count": 115,
   "metadata": {
    "scrolled": false
   },
   "outputs": [
    {
     "data": {
      "text/html": [
       "<div>\n",
       "<style scoped>\n",
       "    .dataframe tbody tr th:only-of-type {\n",
       "        vertical-align: middle;\n",
       "    }\n",
       "\n",
       "    .dataframe tbody tr th {\n",
       "        vertical-align: top;\n",
       "    }\n",
       "\n",
       "    .dataframe thead th {\n",
       "        text-align: right;\n",
       "    }\n",
       "</style>\n",
       "<table border=\"1\" class=\"dataframe\">\n",
       "  <thead>\n",
       "    <tr style=\"text-align: right;\">\n",
       "      <th></th>\n",
       "      <th>title</th>\n",
       "      <th>studio</th>\n",
       "      <th>domestic_gross</th>\n",
       "      <th>foreign_gross</th>\n",
       "      <th>year</th>\n",
       "    </tr>\n",
       "  </thead>\n",
       "  <tbody>\n",
       "    <tr>\n",
       "      <th>0</th>\n",
       "      <td>Toy Story 3</td>\n",
       "      <td>BV</td>\n",
       "      <td>415000000.0</td>\n",
       "      <td>652000000</td>\n",
       "      <td>2010</td>\n",
       "    </tr>\n",
       "    <tr>\n",
       "      <th>1</th>\n",
       "      <td>Alice in Wonderland (2010)</td>\n",
       "      <td>BV</td>\n",
       "      <td>334200000.0</td>\n",
       "      <td>691300000</td>\n",
       "      <td>2010</td>\n",
       "    </tr>\n",
       "    <tr>\n",
       "      <th>2</th>\n",
       "      <td>Harry Potter and the Deathly Hallows Part 1</td>\n",
       "      <td>WB</td>\n",
       "      <td>296000000.0</td>\n",
       "      <td>664300000</td>\n",
       "      <td>2010</td>\n",
       "    </tr>\n",
       "    <tr>\n",
       "      <th>3</th>\n",
       "      <td>Inception</td>\n",
       "      <td>WB</td>\n",
       "      <td>292600000.0</td>\n",
       "      <td>535700000</td>\n",
       "      <td>2010</td>\n",
       "    </tr>\n",
       "    <tr>\n",
       "      <th>4</th>\n",
       "      <td>Shrek Forever After</td>\n",
       "      <td>P/DW</td>\n",
       "      <td>238700000.0</td>\n",
       "      <td>513900000</td>\n",
       "      <td>2010</td>\n",
       "    </tr>\n",
       "  </tbody>\n",
       "</table>\n",
       "</div>"
      ],
      "text/plain": [
       "                                         title studio  domestic_gross  \\\n",
       "0                                  Toy Story 3     BV     415000000.0   \n",
       "1                   Alice in Wonderland (2010)     BV     334200000.0   \n",
       "2  Harry Potter and the Deathly Hallows Part 1     WB     296000000.0   \n",
       "3                                    Inception     WB     292600000.0   \n",
       "4                          Shrek Forever After   P/DW     238700000.0   \n",
       "\n",
       "  foreign_gross  year  \n",
       "0     652000000  2010  \n",
       "1     691300000  2010  \n",
       "2     664300000  2010  \n",
       "3     535700000  2010  \n",
       "4     513900000  2010  "
      ]
     },
     "execution_count": 115,
     "metadata": {},
     "output_type": "execute_result"
    }
   ],
   "source": [
    "#previewing the top of bom_movies\n",
    "bom_movies.head()"
   ]
  },
  {
   "cell_type": "code",
   "execution_count": 116,
   "metadata": {
    "scrolled": true
   },
   "outputs": [
    {
     "data": {
      "text/html": [
       "<div>\n",
       "<style scoped>\n",
       "    .dataframe tbody tr th:only-of-type {\n",
       "        vertical-align: middle;\n",
       "    }\n",
       "\n",
       "    .dataframe tbody tr th {\n",
       "        vertical-align: top;\n",
       "    }\n",
       "\n",
       "    .dataframe thead th {\n",
       "        text-align: right;\n",
       "    }\n",
       "</style>\n",
       "<table border=\"1\" class=\"dataframe\">\n",
       "  <thead>\n",
       "    <tr style=\"text-align: right;\">\n",
       "      <th></th>\n",
       "      <th>title</th>\n",
       "      <th>studio</th>\n",
       "      <th>domestic_gross</th>\n",
       "      <th>foreign_gross</th>\n",
       "      <th>year</th>\n",
       "    </tr>\n",
       "  </thead>\n",
       "  <tbody>\n",
       "    <tr>\n",
       "      <th>3382</th>\n",
       "      <td>The Quake</td>\n",
       "      <td>Magn.</td>\n",
       "      <td>6200.0</td>\n",
       "      <td>NaN</td>\n",
       "      <td>2018</td>\n",
       "    </tr>\n",
       "    <tr>\n",
       "      <th>3383</th>\n",
       "      <td>Edward II (2018 re-release)</td>\n",
       "      <td>FM</td>\n",
       "      <td>4800.0</td>\n",
       "      <td>NaN</td>\n",
       "      <td>2018</td>\n",
       "    </tr>\n",
       "    <tr>\n",
       "      <th>3384</th>\n",
       "      <td>El Pacto</td>\n",
       "      <td>Sony</td>\n",
       "      <td>2500.0</td>\n",
       "      <td>NaN</td>\n",
       "      <td>2018</td>\n",
       "    </tr>\n",
       "    <tr>\n",
       "      <th>3385</th>\n",
       "      <td>The Swan</td>\n",
       "      <td>Synergetic</td>\n",
       "      <td>2400.0</td>\n",
       "      <td>NaN</td>\n",
       "      <td>2018</td>\n",
       "    </tr>\n",
       "    <tr>\n",
       "      <th>3386</th>\n",
       "      <td>An Actor Prepares</td>\n",
       "      <td>Grav.</td>\n",
       "      <td>1700.0</td>\n",
       "      <td>NaN</td>\n",
       "      <td>2018</td>\n",
       "    </tr>\n",
       "  </tbody>\n",
       "</table>\n",
       "</div>"
      ],
      "text/plain": [
       "                            title      studio  domestic_gross foreign_gross  \\\n",
       "3382                    The Quake       Magn.          6200.0           NaN   \n",
       "3383  Edward II (2018 re-release)          FM          4800.0           NaN   \n",
       "3384                     El Pacto        Sony          2500.0           NaN   \n",
       "3385                     The Swan  Synergetic          2400.0           NaN   \n",
       "3386            An Actor Prepares       Grav.          1700.0           NaN   \n",
       "\n",
       "      year  \n",
       "3382  2018  \n",
       "3383  2018  \n",
       "3384  2018  \n",
       "3385  2018  \n",
       "3386  2018  "
      ]
     },
     "execution_count": 116,
     "metadata": {},
     "output_type": "execute_result"
    }
   ],
   "source": [
    "#previewing the bottom of bom_movies\n",
    "bom_movies.tail()"
   ]
  },
  {
   "cell_type": "code",
   "execution_count": 117,
   "metadata": {},
   "outputs": [
    {
     "data": {
      "text/plain": [
       "(3387, 5)"
      ]
     },
     "execution_count": 117,
     "metadata": {},
     "output_type": "execute_result"
    }
   ],
   "source": [
    "#determining the number of records in the bom_movies dataframe\n",
    "bom_movies.shape"
   ]
  },
  {
   "cell_type": "code",
   "execution_count": 118,
   "metadata": {},
   "outputs": [
    {
     "name": "stdout",
     "output_type": "stream",
     "text": [
      "<class 'pandas.core.frame.DataFrame'>\n",
      "RangeIndex: 3387 entries, 0 to 3386\n",
      "Data columns (total 5 columns):\n",
      " #   Column          Non-Null Count  Dtype  \n",
      "---  ------          --------------  -----  \n",
      " 0   title           3387 non-null   object \n",
      " 1   studio          3382 non-null   object \n",
      " 2   domestic_gross  3359 non-null   float64\n",
      " 3   foreign_gross   2037 non-null   object \n",
      " 4   year            3387 non-null   int64  \n",
      "dtypes: float64(1), int64(1), object(3)\n",
      "memory usage: 132.4+ KB\n"
     ]
    }
   ],
   "source": [
    "#previewing bom_movies information\n",
    "bom_movies.info()"
   ]
  },
  {
   "cell_type": "code",
   "execution_count": 119,
   "metadata": {},
   "outputs": [
    {
     "data": {
      "text/html": [
       "<div>\n",
       "<style scoped>\n",
       "    .dataframe tbody tr th:only-of-type {\n",
       "        vertical-align: middle;\n",
       "    }\n",
       "\n",
       "    .dataframe tbody tr th {\n",
       "        vertical-align: top;\n",
       "    }\n",
       "\n",
       "    .dataframe thead th {\n",
       "        text-align: right;\n",
       "    }\n",
       "</style>\n",
       "<table border=\"1\" class=\"dataframe\">\n",
       "  <thead>\n",
       "    <tr style=\"text-align: right;\">\n",
       "      <th></th>\n",
       "      <th>domestic_gross</th>\n",
       "      <th>year</th>\n",
       "    </tr>\n",
       "  </thead>\n",
       "  <tbody>\n",
       "    <tr>\n",
       "      <th>count</th>\n",
       "      <td>3.359000e+03</td>\n",
       "      <td>3387.000000</td>\n",
       "    </tr>\n",
       "    <tr>\n",
       "      <th>mean</th>\n",
       "      <td>2.874585e+07</td>\n",
       "      <td>2013.958075</td>\n",
       "    </tr>\n",
       "    <tr>\n",
       "      <th>std</th>\n",
       "      <td>6.698250e+07</td>\n",
       "      <td>2.478141</td>\n",
       "    </tr>\n",
       "    <tr>\n",
       "      <th>min</th>\n",
       "      <td>1.000000e+02</td>\n",
       "      <td>2010.000000</td>\n",
       "    </tr>\n",
       "    <tr>\n",
       "      <th>25%</th>\n",
       "      <td>1.200000e+05</td>\n",
       "      <td>2012.000000</td>\n",
       "    </tr>\n",
       "    <tr>\n",
       "      <th>50%</th>\n",
       "      <td>1.400000e+06</td>\n",
       "      <td>2014.000000</td>\n",
       "    </tr>\n",
       "    <tr>\n",
       "      <th>75%</th>\n",
       "      <td>2.790000e+07</td>\n",
       "      <td>2016.000000</td>\n",
       "    </tr>\n",
       "    <tr>\n",
       "      <th>max</th>\n",
       "      <td>9.367000e+08</td>\n",
       "      <td>2018.000000</td>\n",
       "    </tr>\n",
       "  </tbody>\n",
       "</table>\n",
       "</div>"
      ],
      "text/plain": [
       "       domestic_gross         year\n",
       "count    3.359000e+03  3387.000000\n",
       "mean     2.874585e+07  2013.958075\n",
       "std      6.698250e+07     2.478141\n",
       "min      1.000000e+02  2010.000000\n",
       "25%      1.200000e+05  2012.000000\n",
       "50%      1.400000e+06  2014.000000\n",
       "75%      2.790000e+07  2016.000000\n",
       "max      9.367000e+08  2018.000000"
      ]
     },
     "execution_count": 119,
     "metadata": {},
     "output_type": "execute_result"
    }
   ],
   "source": [
    "#previewing the summary statistics of bom_movies\n",
    "bom_movies.describe()"
   ]
  },
  {
   "cell_type": "markdown",
   "metadata": {},
   "source": [
    "Observations:\n",
    "1. bom_movies has the following columns with missing values: domestic_gross and foreign_gross.\n",
    "2. The foreign_gross column is in string format.\n",
    "\n",
    "**c. Rt_movies**"
   ]
  },
  {
   "cell_type": "code",
   "execution_count": 120,
   "metadata": {},
   "outputs": [
    {
     "data": {
      "text/html": [
       "<div>\n",
       "<style scoped>\n",
       "    .dataframe tbody tr th:only-of-type {\n",
       "        vertical-align: middle;\n",
       "    }\n",
       "\n",
       "    .dataframe tbody tr th {\n",
       "        vertical-align: top;\n",
       "    }\n",
       "\n",
       "    .dataframe thead th {\n",
       "        text-align: right;\n",
       "    }\n",
       "</style>\n",
       "<table border=\"1\" class=\"dataframe\">\n",
       "  <thead>\n",
       "    <tr style=\"text-align: right;\">\n",
       "      <th></th>\n",
       "      <th>id</th>\n",
       "      <th>synopsis</th>\n",
       "      <th>rating</th>\n",
       "      <th>genre</th>\n",
       "      <th>director</th>\n",
       "      <th>writer</th>\n",
       "      <th>theater_date</th>\n",
       "      <th>dvd_date</th>\n",
       "      <th>currency</th>\n",
       "      <th>box_office</th>\n",
       "      <th>runtime</th>\n",
       "      <th>studio</th>\n",
       "    </tr>\n",
       "  </thead>\n",
       "  <tbody>\n",
       "    <tr>\n",
       "      <th>0</th>\n",
       "      <td>1</td>\n",
       "      <td>This gritty, fast-paced, and innovative police...</td>\n",
       "      <td>R</td>\n",
       "      <td>Action and Adventure|Classics|Drama</td>\n",
       "      <td>William Friedkin</td>\n",
       "      <td>Ernest Tidyman</td>\n",
       "      <td>Oct 9, 1971</td>\n",
       "      <td>Sep 25, 2001</td>\n",
       "      <td>NaN</td>\n",
       "      <td>NaN</td>\n",
       "      <td>104 minutes</td>\n",
       "      <td>NaN</td>\n",
       "    </tr>\n",
       "    <tr>\n",
       "      <th>1</th>\n",
       "      <td>3</td>\n",
       "      <td>New York City, not-too-distant-future: Eric Pa...</td>\n",
       "      <td>R</td>\n",
       "      <td>Drama|Science Fiction and Fantasy</td>\n",
       "      <td>David Cronenberg</td>\n",
       "      <td>David Cronenberg|Don DeLillo</td>\n",
       "      <td>Aug 17, 2012</td>\n",
       "      <td>Jan 1, 2013</td>\n",
       "      <td>$</td>\n",
       "      <td>600,000</td>\n",
       "      <td>108 minutes</td>\n",
       "      <td>Entertainment One</td>\n",
       "    </tr>\n",
       "    <tr>\n",
       "      <th>2</th>\n",
       "      <td>5</td>\n",
       "      <td>Illeana Douglas delivers a superb performance ...</td>\n",
       "      <td>R</td>\n",
       "      <td>Drama|Musical and Performing Arts</td>\n",
       "      <td>Allison Anders</td>\n",
       "      <td>Allison Anders</td>\n",
       "      <td>Sep 13, 1996</td>\n",
       "      <td>Apr 18, 2000</td>\n",
       "      <td>NaN</td>\n",
       "      <td>NaN</td>\n",
       "      <td>116 minutes</td>\n",
       "      <td>NaN</td>\n",
       "    </tr>\n",
       "    <tr>\n",
       "      <th>3</th>\n",
       "      <td>6</td>\n",
       "      <td>Michael Douglas runs afoul of a treacherous su...</td>\n",
       "      <td>R</td>\n",
       "      <td>Drama|Mystery and Suspense</td>\n",
       "      <td>Barry Levinson</td>\n",
       "      <td>Paul Attanasio|Michael Crichton</td>\n",
       "      <td>Dec 9, 1994</td>\n",
       "      <td>Aug 27, 1997</td>\n",
       "      <td>NaN</td>\n",
       "      <td>NaN</td>\n",
       "      <td>128 minutes</td>\n",
       "      <td>NaN</td>\n",
       "    </tr>\n",
       "    <tr>\n",
       "      <th>4</th>\n",
       "      <td>7</td>\n",
       "      <td>NaN</td>\n",
       "      <td>NR</td>\n",
       "      <td>Drama|Romance</td>\n",
       "      <td>Rodney Bennett</td>\n",
       "      <td>Giles Cooper</td>\n",
       "      <td>NaN</td>\n",
       "      <td>NaN</td>\n",
       "      <td>NaN</td>\n",
       "      <td>NaN</td>\n",
       "      <td>200 minutes</td>\n",
       "      <td>NaN</td>\n",
       "    </tr>\n",
       "  </tbody>\n",
       "</table>\n",
       "</div>"
      ],
      "text/plain": [
       "   id                                           synopsis rating  \\\n",
       "0   1  This gritty, fast-paced, and innovative police...      R   \n",
       "1   3  New York City, not-too-distant-future: Eric Pa...      R   \n",
       "2   5  Illeana Douglas delivers a superb performance ...      R   \n",
       "3   6  Michael Douglas runs afoul of a treacherous su...      R   \n",
       "4   7                                                NaN     NR   \n",
       "\n",
       "                                 genre          director  \\\n",
       "0  Action and Adventure|Classics|Drama  William Friedkin   \n",
       "1    Drama|Science Fiction and Fantasy  David Cronenberg   \n",
       "2    Drama|Musical and Performing Arts    Allison Anders   \n",
       "3           Drama|Mystery and Suspense    Barry Levinson   \n",
       "4                        Drama|Romance    Rodney Bennett   \n",
       "\n",
       "                            writer  theater_date      dvd_date currency  \\\n",
       "0                   Ernest Tidyman   Oct 9, 1971  Sep 25, 2001      NaN   \n",
       "1     David Cronenberg|Don DeLillo  Aug 17, 2012   Jan 1, 2013        $   \n",
       "2                   Allison Anders  Sep 13, 1996  Apr 18, 2000      NaN   \n",
       "3  Paul Attanasio|Michael Crichton   Dec 9, 1994  Aug 27, 1997      NaN   \n",
       "4                     Giles Cooper           NaN           NaN      NaN   \n",
       "\n",
       "  box_office      runtime             studio  \n",
       "0        NaN  104 minutes                NaN  \n",
       "1    600,000  108 minutes  Entertainment One  \n",
       "2        NaN  116 minutes                NaN  \n",
       "3        NaN  128 minutes                NaN  \n",
       "4        NaN  200 minutes                NaN  "
      ]
     },
     "execution_count": 120,
     "metadata": {},
     "output_type": "execute_result"
    }
   ],
   "source": [
    "#previewing the top of rt_movies\n",
    "rt_movies.head()"
   ]
  },
  {
   "cell_type": "code",
   "execution_count": 121,
   "metadata": {
    "scrolled": true
   },
   "outputs": [
    {
     "data": {
      "text/html": [
       "<div>\n",
       "<style scoped>\n",
       "    .dataframe tbody tr th:only-of-type {\n",
       "        vertical-align: middle;\n",
       "    }\n",
       "\n",
       "    .dataframe tbody tr th {\n",
       "        vertical-align: top;\n",
       "    }\n",
       "\n",
       "    .dataframe thead th {\n",
       "        text-align: right;\n",
       "    }\n",
       "</style>\n",
       "<table border=\"1\" class=\"dataframe\">\n",
       "  <thead>\n",
       "    <tr style=\"text-align: right;\">\n",
       "      <th></th>\n",
       "      <th>id</th>\n",
       "      <th>synopsis</th>\n",
       "      <th>rating</th>\n",
       "      <th>genre</th>\n",
       "      <th>director</th>\n",
       "      <th>writer</th>\n",
       "      <th>theater_date</th>\n",
       "      <th>dvd_date</th>\n",
       "      <th>currency</th>\n",
       "      <th>box_office</th>\n",
       "      <th>runtime</th>\n",
       "      <th>studio</th>\n",
       "    </tr>\n",
       "  </thead>\n",
       "  <tbody>\n",
       "    <tr>\n",
       "      <th>1555</th>\n",
       "      <td>1996</td>\n",
       "      <td>Forget terrorists or hijackers -- there's a ha...</td>\n",
       "      <td>R</td>\n",
       "      <td>Action and Adventure|Horror|Mystery and Suspense</td>\n",
       "      <td>NaN</td>\n",
       "      <td>NaN</td>\n",
       "      <td>Aug 18, 2006</td>\n",
       "      <td>Jan 2, 2007</td>\n",
       "      <td>$</td>\n",
       "      <td>33,886,034</td>\n",
       "      <td>106 minutes</td>\n",
       "      <td>New Line Cinema</td>\n",
       "    </tr>\n",
       "    <tr>\n",
       "      <th>1556</th>\n",
       "      <td>1997</td>\n",
       "      <td>The popular Saturday Night Live sketch was exp...</td>\n",
       "      <td>PG</td>\n",
       "      <td>Comedy|Science Fiction and Fantasy</td>\n",
       "      <td>Steve Barron</td>\n",
       "      <td>Terry Turner|Tom Davis|Dan Aykroyd|Bonnie Turner</td>\n",
       "      <td>Jul 23, 1993</td>\n",
       "      <td>Apr 17, 2001</td>\n",
       "      <td>NaN</td>\n",
       "      <td>NaN</td>\n",
       "      <td>88 minutes</td>\n",
       "      <td>Paramount Vantage</td>\n",
       "    </tr>\n",
       "    <tr>\n",
       "      <th>1557</th>\n",
       "      <td>1998</td>\n",
       "      <td>Based on a novel by Richard Powell, when the l...</td>\n",
       "      <td>G</td>\n",
       "      <td>Classics|Comedy|Drama|Musical and Performing Arts</td>\n",
       "      <td>Gordon Douglas</td>\n",
       "      <td>NaN</td>\n",
       "      <td>Jan 1, 1962</td>\n",
       "      <td>May 11, 2004</td>\n",
       "      <td>NaN</td>\n",
       "      <td>NaN</td>\n",
       "      <td>111 minutes</td>\n",
       "      <td>NaN</td>\n",
       "    </tr>\n",
       "    <tr>\n",
       "      <th>1558</th>\n",
       "      <td>1999</td>\n",
       "      <td>The Sandlot is a coming-of-age story about a g...</td>\n",
       "      <td>PG</td>\n",
       "      <td>Comedy|Drama|Kids and Family|Sports and Fitness</td>\n",
       "      <td>David Mickey Evans</td>\n",
       "      <td>David Mickey Evans|Robert Gunter</td>\n",
       "      <td>Apr 1, 1993</td>\n",
       "      <td>Jan 29, 2002</td>\n",
       "      <td>NaN</td>\n",
       "      <td>NaN</td>\n",
       "      <td>101 minutes</td>\n",
       "      <td>NaN</td>\n",
       "    </tr>\n",
       "    <tr>\n",
       "      <th>1559</th>\n",
       "      <td>2000</td>\n",
       "      <td>Suspended from the force, Paris cop Hubert is ...</td>\n",
       "      <td>R</td>\n",
       "      <td>Action and Adventure|Art House and Internation...</td>\n",
       "      <td>NaN</td>\n",
       "      <td>Luc Besson</td>\n",
       "      <td>Sep 27, 2001</td>\n",
       "      <td>Feb 11, 2003</td>\n",
       "      <td>NaN</td>\n",
       "      <td>NaN</td>\n",
       "      <td>94 minutes</td>\n",
       "      <td>Columbia Pictures</td>\n",
       "    </tr>\n",
       "  </tbody>\n",
       "</table>\n",
       "</div>"
      ],
      "text/plain": [
       "        id                                           synopsis rating  \\\n",
       "1555  1996  Forget terrorists or hijackers -- there's a ha...      R   \n",
       "1556  1997  The popular Saturday Night Live sketch was exp...     PG   \n",
       "1557  1998  Based on a novel by Richard Powell, when the l...      G   \n",
       "1558  1999  The Sandlot is a coming-of-age story about a g...     PG   \n",
       "1559  2000  Suspended from the force, Paris cop Hubert is ...      R   \n",
       "\n",
       "                                                  genre            director  \\\n",
       "1555   Action and Adventure|Horror|Mystery and Suspense                 NaN   \n",
       "1556                 Comedy|Science Fiction and Fantasy        Steve Barron   \n",
       "1557  Classics|Comedy|Drama|Musical and Performing Arts      Gordon Douglas   \n",
       "1558    Comedy|Drama|Kids and Family|Sports and Fitness  David Mickey Evans   \n",
       "1559  Action and Adventure|Art House and Internation...                 NaN   \n",
       "\n",
       "                                                writer  theater_date  \\\n",
       "1555                                               NaN  Aug 18, 2006   \n",
       "1556  Terry Turner|Tom Davis|Dan Aykroyd|Bonnie Turner  Jul 23, 1993   \n",
       "1557                                               NaN   Jan 1, 1962   \n",
       "1558                  David Mickey Evans|Robert Gunter   Apr 1, 1993   \n",
       "1559                                        Luc Besson  Sep 27, 2001   \n",
       "\n",
       "          dvd_date currency  box_office      runtime             studio  \n",
       "1555   Jan 2, 2007        $  33,886,034  106 minutes    New Line Cinema  \n",
       "1556  Apr 17, 2001      NaN         NaN   88 minutes  Paramount Vantage  \n",
       "1557  May 11, 2004      NaN         NaN  111 minutes                NaN  \n",
       "1558  Jan 29, 2002      NaN         NaN  101 minutes                NaN  \n",
       "1559  Feb 11, 2003      NaN         NaN   94 minutes  Columbia Pictures  "
      ]
     },
     "execution_count": 121,
     "metadata": {},
     "output_type": "execute_result"
    }
   ],
   "source": [
    "#previewing the bottom of rt_movies\n",
    "rt_movies.tail()"
   ]
  },
  {
   "cell_type": "code",
   "execution_count": 122,
   "metadata": {},
   "outputs": [
    {
     "data": {
      "text/plain": [
       "(1560, 12)"
      ]
     },
     "execution_count": 122,
     "metadata": {},
     "output_type": "execute_result"
    }
   ],
   "source": [
    "#determining the number of records in the rt_movies dataframe\n",
    "rt_movies.shape"
   ]
  },
  {
   "cell_type": "code",
   "execution_count": 123,
   "metadata": {},
   "outputs": [
    {
     "name": "stdout",
     "output_type": "stream",
     "text": [
      "<class 'pandas.core.frame.DataFrame'>\n",
      "RangeIndex: 1560 entries, 0 to 1559\n",
      "Data columns (total 12 columns):\n",
      " #   Column        Non-Null Count  Dtype \n",
      "---  ------        --------------  ----- \n",
      " 0   id            1560 non-null   int64 \n",
      " 1   synopsis      1498 non-null   object\n",
      " 2   rating        1557 non-null   object\n",
      " 3   genre         1552 non-null   object\n",
      " 4   director      1361 non-null   object\n",
      " 5   writer        1111 non-null   object\n",
      " 6   theater_date  1201 non-null   object\n",
      " 7   dvd_date      1201 non-null   object\n",
      " 8   currency      340 non-null    object\n",
      " 9   box_office    340 non-null    object\n",
      " 10  runtime       1530 non-null   object\n",
      " 11  studio        494 non-null    object\n",
      "dtypes: int64(1), object(11)\n",
      "memory usage: 146.4+ KB\n"
     ]
    }
   ],
   "source": [
    "#previewing information on rt_movies\n",
    "rt_movies.info()"
   ]
  },
  {
   "cell_type": "markdown",
   "metadata": {},
   "source": [
    "Observations:\n",
    "1. A number of columns have missing values, especially the currency,box_office and studio columns.\n",
    "2. Values in genre column is separated by pipes ( | ).\n",
    "3. runtime column is in string format and includes the word \"minutes\" which can be dropped in order to perform numeric operations on the column\n",
    "\n",
    "**d. Rt_reviews**"
   ]
  },
  {
   "cell_type": "code",
   "execution_count": 124,
   "metadata": {
    "scrolled": true
   },
   "outputs": [
    {
     "data": {
      "text/html": [
       "<div>\n",
       "<style scoped>\n",
       "    .dataframe tbody tr th:only-of-type {\n",
       "        vertical-align: middle;\n",
       "    }\n",
       "\n",
       "    .dataframe tbody tr th {\n",
       "        vertical-align: top;\n",
       "    }\n",
       "\n",
       "    .dataframe thead th {\n",
       "        text-align: right;\n",
       "    }\n",
       "</style>\n",
       "<table border=\"1\" class=\"dataframe\">\n",
       "  <thead>\n",
       "    <tr style=\"text-align: right;\">\n",
       "      <th></th>\n",
       "      <th>id</th>\n",
       "      <th>review</th>\n",
       "      <th>rating</th>\n",
       "      <th>fresh</th>\n",
       "      <th>critic</th>\n",
       "      <th>top_critic</th>\n",
       "      <th>publisher</th>\n",
       "      <th>date</th>\n",
       "    </tr>\n",
       "  </thead>\n",
       "  <tbody>\n",
       "    <tr>\n",
       "      <th>0</th>\n",
       "      <td>3</td>\n",
       "      <td>A distinctly gallows take on contemporary fina...</td>\n",
       "      <td>3/5</td>\n",
       "      <td>fresh</td>\n",
       "      <td>PJ Nabarro</td>\n",
       "      <td>0</td>\n",
       "      <td>Patrick Nabarro</td>\n",
       "      <td>November 10, 2018</td>\n",
       "    </tr>\n",
       "    <tr>\n",
       "      <th>1</th>\n",
       "      <td>3</td>\n",
       "      <td>It's an allegory in search of a meaning that n...</td>\n",
       "      <td>NaN</td>\n",
       "      <td>rotten</td>\n",
       "      <td>Annalee Newitz</td>\n",
       "      <td>0</td>\n",
       "      <td>io9.com</td>\n",
       "      <td>May 23, 2018</td>\n",
       "    </tr>\n",
       "    <tr>\n",
       "      <th>2</th>\n",
       "      <td>3</td>\n",
       "      <td>... life lived in a bubble in financial dealin...</td>\n",
       "      <td>NaN</td>\n",
       "      <td>fresh</td>\n",
       "      <td>Sean Axmaker</td>\n",
       "      <td>0</td>\n",
       "      <td>Stream on Demand</td>\n",
       "      <td>January 4, 2018</td>\n",
       "    </tr>\n",
       "    <tr>\n",
       "      <th>3</th>\n",
       "      <td>3</td>\n",
       "      <td>Continuing along a line introduced in last yea...</td>\n",
       "      <td>NaN</td>\n",
       "      <td>fresh</td>\n",
       "      <td>Daniel Kasman</td>\n",
       "      <td>0</td>\n",
       "      <td>MUBI</td>\n",
       "      <td>November 16, 2017</td>\n",
       "    </tr>\n",
       "    <tr>\n",
       "      <th>4</th>\n",
       "      <td>3</td>\n",
       "      <td>... a perverse twist on neorealism...</td>\n",
       "      <td>NaN</td>\n",
       "      <td>fresh</td>\n",
       "      <td>NaN</td>\n",
       "      <td>0</td>\n",
       "      <td>Cinema Scope</td>\n",
       "      <td>October 12, 2017</td>\n",
       "    </tr>\n",
       "  </tbody>\n",
       "</table>\n",
       "</div>"
      ],
      "text/plain": [
       "   id                                             review rating   fresh  \\\n",
       "0   3  A distinctly gallows take on contemporary fina...    3/5   fresh   \n",
       "1   3  It's an allegory in search of a meaning that n...    NaN  rotten   \n",
       "2   3  ... life lived in a bubble in financial dealin...    NaN   fresh   \n",
       "3   3  Continuing along a line introduced in last yea...    NaN   fresh   \n",
       "4   3             ... a perverse twist on neorealism...     NaN   fresh   \n",
       "\n",
       "           critic  top_critic         publisher               date  \n",
       "0      PJ Nabarro           0   Patrick Nabarro  November 10, 2018  \n",
       "1  Annalee Newitz           0           io9.com       May 23, 2018  \n",
       "2    Sean Axmaker           0  Stream on Demand    January 4, 2018  \n",
       "3   Daniel Kasman           0              MUBI  November 16, 2017  \n",
       "4             NaN           0      Cinema Scope   October 12, 2017  "
      ]
     },
     "execution_count": 124,
     "metadata": {},
     "output_type": "execute_result"
    }
   ],
   "source": [
    "#previewing the top of rt_reviews\n",
    "rt_reviews.head()"
   ]
  },
  {
   "cell_type": "code",
   "execution_count": 125,
   "metadata": {},
   "outputs": [
    {
     "data": {
      "text/html": [
       "<div>\n",
       "<style scoped>\n",
       "    .dataframe tbody tr th:only-of-type {\n",
       "        vertical-align: middle;\n",
       "    }\n",
       "\n",
       "    .dataframe tbody tr th {\n",
       "        vertical-align: top;\n",
       "    }\n",
       "\n",
       "    .dataframe thead th {\n",
       "        text-align: right;\n",
       "    }\n",
       "</style>\n",
       "<table border=\"1\" class=\"dataframe\">\n",
       "  <thead>\n",
       "    <tr style=\"text-align: right;\">\n",
       "      <th></th>\n",
       "      <th>id</th>\n",
       "      <th>review</th>\n",
       "      <th>rating</th>\n",
       "      <th>fresh</th>\n",
       "      <th>critic</th>\n",
       "      <th>top_critic</th>\n",
       "      <th>publisher</th>\n",
       "      <th>date</th>\n",
       "    </tr>\n",
       "  </thead>\n",
       "  <tbody>\n",
       "    <tr>\n",
       "      <th>54427</th>\n",
       "      <td>2000</td>\n",
       "      <td>The real charm of this trifle is the deadpan c...</td>\n",
       "      <td>NaN</td>\n",
       "      <td>fresh</td>\n",
       "      <td>Laura Sinagra</td>\n",
       "      <td>1</td>\n",
       "      <td>Village Voice</td>\n",
       "      <td>September 24, 2002</td>\n",
       "    </tr>\n",
       "    <tr>\n",
       "      <th>54428</th>\n",
       "      <td>2000</td>\n",
       "      <td>NaN</td>\n",
       "      <td>1/5</td>\n",
       "      <td>rotten</td>\n",
       "      <td>Michael Szymanski</td>\n",
       "      <td>0</td>\n",
       "      <td>Zap2it.com</td>\n",
       "      <td>September 21, 2005</td>\n",
       "    </tr>\n",
       "    <tr>\n",
       "      <th>54429</th>\n",
       "      <td>2000</td>\n",
       "      <td>NaN</td>\n",
       "      <td>2/5</td>\n",
       "      <td>rotten</td>\n",
       "      <td>Emanuel Levy</td>\n",
       "      <td>0</td>\n",
       "      <td>EmanuelLevy.Com</td>\n",
       "      <td>July 17, 2005</td>\n",
       "    </tr>\n",
       "    <tr>\n",
       "      <th>54430</th>\n",
       "      <td>2000</td>\n",
       "      <td>NaN</td>\n",
       "      <td>2.5/5</td>\n",
       "      <td>rotten</td>\n",
       "      <td>Christopher Null</td>\n",
       "      <td>0</td>\n",
       "      <td>Filmcritic.com</td>\n",
       "      <td>September 7, 2003</td>\n",
       "    </tr>\n",
       "    <tr>\n",
       "      <th>54431</th>\n",
       "      <td>2000</td>\n",
       "      <td>NaN</td>\n",
       "      <td>3/5</td>\n",
       "      <td>fresh</td>\n",
       "      <td>Nicolas Lacroix</td>\n",
       "      <td>0</td>\n",
       "      <td>Showbizz.net</td>\n",
       "      <td>November 12, 2002</td>\n",
       "    </tr>\n",
       "  </tbody>\n",
       "</table>\n",
       "</div>"
      ],
      "text/plain": [
       "         id                                             review rating   fresh  \\\n",
       "54427  2000  The real charm of this trifle is the deadpan c...    NaN   fresh   \n",
       "54428  2000                                                NaN    1/5  rotten   \n",
       "54429  2000                                                NaN    2/5  rotten   \n",
       "54430  2000                                                NaN  2.5/5  rotten   \n",
       "54431  2000                                                NaN    3/5   fresh   \n",
       "\n",
       "                  critic  top_critic        publisher                date  \n",
       "54427      Laura Sinagra           1    Village Voice  September 24, 2002  \n",
       "54428  Michael Szymanski           0       Zap2it.com  September 21, 2005  \n",
       "54429       Emanuel Levy           0  EmanuelLevy.Com       July 17, 2005  \n",
       "54430   Christopher Null           0   Filmcritic.com   September 7, 2003  \n",
       "54431    Nicolas Lacroix           0     Showbizz.net   November 12, 2002  "
      ]
     },
     "execution_count": 125,
     "metadata": {},
     "output_type": "execute_result"
    }
   ],
   "source": [
    "#previewing the bottom of rt_reviews\n",
    "rt_reviews.tail()"
   ]
  },
  {
   "cell_type": "code",
   "execution_count": 126,
   "metadata": {},
   "outputs": [
    {
     "data": {
      "text/plain": [
       "(54432, 8)"
      ]
     },
     "execution_count": 126,
     "metadata": {},
     "output_type": "execute_result"
    }
   ],
   "source": [
    "#determining the number of records in the rt_reviews dataframe\n",
    "rt_reviews.shape"
   ]
  },
  {
   "cell_type": "code",
   "execution_count": 127,
   "metadata": {},
   "outputs": [
    {
     "name": "stdout",
     "output_type": "stream",
     "text": [
      "<class 'pandas.core.frame.DataFrame'>\n",
      "RangeIndex: 54432 entries, 0 to 54431\n",
      "Data columns (total 8 columns):\n",
      " #   Column      Non-Null Count  Dtype \n",
      "---  ------      --------------  ----- \n",
      " 0   id          54432 non-null  int64 \n",
      " 1   review      48869 non-null  object\n",
      " 2   rating      40915 non-null  object\n",
      " 3   fresh       54432 non-null  object\n",
      " 4   critic      51710 non-null  object\n",
      " 5   top_critic  54432 non-null  int64 \n",
      " 6   publisher   54123 non-null  object\n",
      " 7   date        54432 non-null  object\n",
      "dtypes: int64(2), object(6)\n",
      "memory usage: 3.3+ MB\n"
     ]
    }
   ],
   "source": [
    "#previewing information on rt_reviews\n",
    "rt_reviews.info()"
   ]
  },
  {
   "cell_type": "markdown",
   "metadata": {},
   "source": [
    "Observations:\n",
    "1. The columns review,rating and critic have missing values\n",
    "2. rt_reviews can be merged with rt_movies on id as they are from the same source.\n",
    "3. There are multiple reviews per movie.\n",
    "4. The rating column appears to be out of 5."
   ]
  },
  {
   "cell_type": "markdown",
   "metadata": {},
   "source": [
    "## 6. Data Cleaning\n",
    "This section deals with data cleaning methods that prepares the data for exploratory analysis. It tackles the problems with the datasets that have been observed while exploring them and any other that occur afterwards. It addresses the following:\n",
    "   - Duplicated rows\n",
    "   - Missing values\n",
    "   - Unwanted observations\n",
    "   - Structural issues\n",
    "   - Outliers\n",
    "   - Invalid data\n",
    "   - Merges\n",
    "   \n",
    "### 6.1. Duplicate Rows\n",
    "It is helpful to define a function that checks for duplicate rows in all the dataframes.   "
   ]
  },
  {
   "cell_type": "code",
   "execution_count": 128,
   "metadata": {},
   "outputs": [],
   "source": [
    "#defining a function checking for number of duplicated rows\n",
    "def check_duplicates(df):\n",
    "    duplicates = df.duplicated().sum()\n",
    "    print (f\"There are {duplicates} duplicated rows\")"
   ]
  },
  {
   "cell_type": "code",
   "execution_count": 129,
   "metadata": {},
   "outputs": [
    {
     "name": "stdout",
     "output_type": "stream",
     "text": [
      "There are 95357 duplicated rows\n"
     ]
    }
   ],
   "source": [
    "#checking for duplicates in imdb dataframe\n",
    "check_duplicates(imdb)"
   ]
  },
  {
   "cell_type": "code",
   "execution_count": 130,
   "metadata": {},
   "outputs": [
    {
     "name": "stdout",
     "output_type": "stream",
     "text": [
      "There are 0 duplicated rows\n"
     ]
    }
   ],
   "source": [
    "#checking for duplicates in bom_movies dataframe\n",
    "check_duplicates(bom_movies)"
   ]
  },
  {
   "cell_type": "code",
   "execution_count": 131,
   "metadata": {
    "scrolled": true
   },
   "outputs": [
    {
     "name": "stdout",
     "output_type": "stream",
     "text": [
      "There are 9 duplicated rows\n"
     ]
    }
   ],
   "source": [
    "#checking for duplicates in rt_reviews dataframe\n",
    "check_duplicates(rt_reviews)"
   ]
  },
  {
   "cell_type": "code",
   "execution_count": 132,
   "metadata": {},
   "outputs": [
    {
     "name": "stdout",
     "output_type": "stream",
     "text": [
      "There are 0 duplicated rows\n"
     ]
    }
   ],
   "source": [
    "#checking for duplicates in rt_movies dataframe\n",
    "check_duplicates(rt_movies)"
   ]
  },
  {
   "cell_type": "code",
   "execution_count": 133,
   "metadata": {},
   "outputs": [],
   "source": [
    "#dropping duplicates in imdb\n",
    "imdb.drop_duplicates(inplace = True)\n",
    "rt_reviews.drop_duplicates(inplace = True)"
   ]
  },
  {
   "cell_type": "code",
   "execution_count": 134,
   "metadata": {},
   "outputs": [
    {
     "name": "stdout",
     "output_type": "stream",
     "text": [
      "There are 0 duplicated rows\n",
      "There are 0 duplicated rows\n"
     ]
    }
   ],
   "source": [
    "#confirming that duplicates have been dropped \n",
    "check_duplicates(imdb)\n",
    "check_duplicates(rt_reviews)"
   ]
  },
  {
   "cell_type": "markdown",
   "metadata": {},
   "source": [
    "### 6.2. Missing Values\n",
    "All dataframes have columns with missing values. It makes sense to create a fuction that returns the percentage of missing values in each column."
   ]
  },
  {
   "cell_type": "code",
   "execution_count": 135,
   "metadata": {},
   "outputs": [],
   "source": [
    "#defining a function that prints the percentage of null rows in all columns \n",
    "def find_percentage_of_nulls(df):\n",
    "    \n",
    "    #loop through all columns and print percentage of missing values in each\n",
    "    \n",
    "    for column in df.columns:\n",
    "        percentage = round(df[column].isnull().sum()/(len(df))*100,3)\n",
    "        print(f\"The percentage of null rows in column {column} is {percentage}%\")    "
   ]
  },
  {
   "cell_type": "markdown",
   "metadata": {},
   "source": [
    "**imdb movies**"
   ]
  },
  {
   "cell_type": "code",
   "execution_count": 136,
   "metadata": {},
   "outputs": [
    {
     "name": "stdout",
     "output_type": "stream",
     "text": [
      "The percentage of null rows in column movie_id is 0.0%\n",
      "The percentage of null rows in column primary_title is 0.0%\n",
      "The percentage of null rows in column original_title is 0.0%\n",
      "The percentage of null rows in column start_year is 0.0%\n",
      "The percentage of null rows in column runtime_minutes is 10.366%\n",
      "The percentage of null rows in column genres is 0.928%\n",
      "The percentage of null rows in column averagerating is 0.0%\n",
      "The percentage of null rows in column numvotes is 0.0%\n",
      "The percentage of null rows in column person_id is 0.0%\n",
      "The percentage of null rows in column primary_name is 0.0%\n",
      "The percentage of null rows in column birth_year is 71.294%\n",
      "The percentage of null rows in column death_year is 99.187%\n",
      "The percentage of null rows in column primary_profession is 0.103%\n"
     ]
    }
   ],
   "source": [
    "#finding percentage of nulls in imdb\n",
    "find_percentage_of_nulls(imdb)"
   ]
  },
  {
   "cell_type": "markdown",
   "metadata": {},
   "source": [
    "- Column birth_year is to be dropped as it does not provide any helpful insights for this analysis.\n",
    "- death_year is to be filled with the word 'alive' as it would help to know if the director is still alive.\n",
    "- The other columns will have the rows with missing values dropped."
   ]
  },
  {
   "cell_type": "code",
   "execution_count": 137,
   "metadata": {},
   "outputs": [],
   "source": [
    "#dropping rows with missing values\n",
    "imdb.dropna(subset = ['runtime_minutes','genres','primary_profession'],inplace = True)"
   ]
  },
  {
   "cell_type": "code",
   "execution_count": 138,
   "metadata": {},
   "outputs": [],
   "source": [
    "#dropping birth_year\n",
    "imdb.drop('birth_year', inplace = True, axis = 1)"
   ]
  },
  {
   "cell_type": "code",
   "execution_count": 139,
   "metadata": {},
   "outputs": [],
   "source": [
    "#filling death_year\n",
    "imdb.death_year.fillna('alive', inplace = True)"
   ]
  },
  {
   "cell_type": "code",
   "execution_count": 140,
   "metadata": {},
   "outputs": [
    {
     "name": "stdout",
     "output_type": "stream",
     "text": [
      "<class 'pandas.core.frame.DataFrame'>\n",
      "Int64Index: 76495 entries, 0 to 181386\n",
      "Data columns (total 12 columns):\n",
      " #   Column              Non-Null Count  Dtype  \n",
      "---  ------              --------------  -----  \n",
      " 0   movie_id            76495 non-null  object \n",
      " 1   primary_title       76495 non-null  object \n",
      " 2   original_title      76495 non-null  object \n",
      " 3   start_year          76495 non-null  int64  \n",
      " 4   runtime_minutes     76495 non-null  float64\n",
      " 5   genres              76495 non-null  object \n",
      " 6   averagerating       76495 non-null  float64\n",
      " 7   numvotes            76495 non-null  int64  \n",
      " 8   person_id           76495 non-null  object \n",
      " 9   primary_name        76495 non-null  object \n",
      " 10  death_year          76495 non-null  object \n",
      " 11  primary_profession  76495 non-null  object \n",
      "dtypes: float64(2), int64(2), object(8)\n",
      "memory usage: 7.6+ MB\n"
     ]
    }
   ],
   "source": [
    "#confirming there are no missing values\n",
    "imdb.info()"
   ]
  },
  {
   "cell_type": "markdown",
   "metadata": {},
   "source": [
    "**bom_movies**"
   ]
  },
  {
   "cell_type": "code",
   "execution_count": 141,
   "metadata": {
    "scrolled": true
   },
   "outputs": [
    {
     "name": "stdout",
     "output_type": "stream",
     "text": [
      "The percentage of null rows in column title is 0.0%\n",
      "The percentage of null rows in column studio is 0.148%\n",
      "The percentage of null rows in column domestic_gross is 0.827%\n",
      "The percentage of null rows in column foreign_gross is 39.858%\n",
      "The percentage of null rows in column year is 0.0%\n"
     ]
    }
   ],
   "source": [
    "#finding percentage of nulls in bom_movies\n",
    "find_percentage_of_nulls(bom_movies)"
   ]
  },
  {
   "cell_type": "markdown",
   "metadata": {},
   "source": [
    "- The studio column and the domestic_gross column only have 0.827% and 0.148% missing values. It makes sense to drop the rows as they will not affect the data analysis.\n",
    "- The foreign_gross column has almost 40% of the data being null. As it is in string format, the missing values can be replaced with 0   "
   ]
  },
  {
   "cell_type": "code",
   "execution_count": 142,
   "metadata": {},
   "outputs": [],
   "source": [
    "#dropping null rows in studio and domestic_gross column\n",
    "bom_movies.dropna(inplace = True, subset = ['studio','domestic_gross'])"
   ]
  },
  {
   "cell_type": "code",
   "execution_count": 143,
   "metadata": {},
   "outputs": [],
   "source": [
    "#replace missing values with 0 in foreign_gross column\n",
    "bom_movies.foreign_gross.fillna('0',inplace = True)"
   ]
  },
  {
   "cell_type": "code",
   "execution_count": 144,
   "metadata": {},
   "outputs": [
    {
     "name": "stdout",
     "output_type": "stream",
     "text": [
      "<class 'pandas.core.frame.DataFrame'>\n",
      "Int64Index: 3356 entries, 0 to 3386\n",
      "Data columns (total 5 columns):\n",
      " #   Column          Non-Null Count  Dtype  \n",
      "---  ------          --------------  -----  \n",
      " 0   title           3356 non-null   object \n",
      " 1   studio          3356 non-null   object \n",
      " 2   domestic_gross  3356 non-null   float64\n",
      " 3   foreign_gross   3356 non-null   object \n",
      " 4   year            3356 non-null   int64  \n",
      "dtypes: float64(1), int64(1), object(3)\n",
      "memory usage: 157.3+ KB\n"
     ]
    }
   ],
   "source": [
    "#confirming there are no missing values\n",
    "bom_movies.info()"
   ]
  },
  {
   "cell_type": "markdown",
   "metadata": {},
   "source": [
    "**rt_movies**"
   ]
  },
  {
   "cell_type": "code",
   "execution_count": 145,
   "metadata": {},
   "outputs": [
    {
     "name": "stdout",
     "output_type": "stream",
     "text": [
      "The percentage of null rows in column id is 0.0%\n",
      "The percentage of null rows in column synopsis is 3.974%\n",
      "The percentage of null rows in column rating is 0.192%\n",
      "The percentage of null rows in column genre is 0.513%\n",
      "The percentage of null rows in column director is 12.756%\n",
      "The percentage of null rows in column writer is 28.782%\n",
      "The percentage of null rows in column theater_date is 23.013%\n",
      "The percentage of null rows in column dvd_date is 23.013%\n",
      "The percentage of null rows in column currency is 78.205%\n",
      "The percentage of null rows in column box_office is 78.205%\n",
      "The percentage of null rows in column runtime is 1.923%\n",
      "The percentage of null rows in column studio is 68.333%\n"
     ]
    }
   ],
   "source": [
    "#finding percentage of nulls in rt_movies\n",
    "find_percentage_of_nulls(rt_movies)"
   ]
  },
  {
   "cell_type": "markdown",
   "metadata": {},
   "source": [
    "- The following columns have a large percentage of null values : currency, box_office and studio. The best way to proceed is by dropping these columns. Columns synopsis, director, writer, theater_date, dvd_date are to be dropped as they are not required for this analysis.\n",
    "- The columns rating, genre, runtime have a small number of null values. These will be handled by dropping the rows."
   ]
  },
  {
   "cell_type": "code",
   "execution_count": 146,
   "metadata": {},
   "outputs": [],
   "source": [
    "#dropping columns with too many null values\n",
    "rt_movies.drop(['synopsis','director','writer','theater_date','dvd_date','currency','box_office','studio'],\n",
    "               axis = 1,inplace=True)"
   ]
  },
  {
   "cell_type": "code",
   "execution_count": 147,
   "metadata": {},
   "outputs": [],
   "source": [
    "#dropping rows with null values\n",
    "rt_movies.dropna(subset = ['rating','genre','runtime'],inplace = True)"
   ]
  },
  {
   "cell_type": "code",
   "execution_count": 148,
   "metadata": {},
   "outputs": [
    {
     "name": "stdout",
     "output_type": "stream",
     "text": [
      "<class 'pandas.core.frame.DataFrame'>\n",
      "Int64Index: 1526 entries, 0 to 1559\n",
      "Data columns (total 4 columns):\n",
      " #   Column   Non-Null Count  Dtype \n",
      "---  ------   --------------  ----- \n",
      " 0   id       1526 non-null   int64 \n",
      " 1   rating   1526 non-null   object\n",
      " 2   genre    1526 non-null   object\n",
      " 3   runtime  1526 non-null   object\n",
      "dtypes: int64(1), object(3)\n",
      "memory usage: 59.6+ KB\n"
     ]
    }
   ],
   "source": [
    "#confirming there are no missing values\n",
    "rt_movies.info()"
   ]
  },
  {
   "cell_type": "markdown",
   "metadata": {},
   "source": [
    "**rt_reviews**"
   ]
  },
  {
   "cell_type": "code",
   "execution_count": 149,
   "metadata": {},
   "outputs": [
    {
     "name": "stdout",
     "output_type": "stream",
     "text": [
      "The percentage of null rows in column id is 0.0%\n",
      "The percentage of null rows in column review is 10.209%\n",
      "The percentage of null rows in column rating is 24.835%\n",
      "The percentage of null rows in column fresh is 0.0%\n",
      "The percentage of null rows in column critic is 4.985%\n",
      "The percentage of null rows in column top_critic is 0.0%\n",
      "The percentage of null rows in column publisher is 0.568%\n",
      "The percentage of null rows in column date is 0.0%\n"
     ]
    }
   ],
   "source": [
    "#checking for percentage of null values in each column\n",
    "find_percentage_of_nulls(rt_reviews)"
   ]
  },
  {
   "cell_type": "markdown",
   "metadata": {},
   "source": [
    "Dropping rows in the columns review, critic and publisher suffices as there is still be enough entries to analyse. Exploring the rating column further will help make the better decision."
   ]
  },
  {
   "cell_type": "code",
   "execution_count": 150,
   "metadata": {},
   "outputs": [
    {
     "data": {
      "text/plain": [
       "array(['3/5', nan, 'C', '2/5', 'B-', '2/4', 'B', '3/4', '4/5', '4/4',\n",
       "       '6/10', '1/4', '8', '2.5/4', '4/10', '2.0/5', '3/10', '7/10', 'A-',\n",
       "       '5/5', 'F', '3.5/4', 'D+', '1.5/4', '3.5/5', '8/10', 'B+', '9/10',\n",
       "       '2.5/5', '7.5/10', '5.5/10', 'C-', '1.5/5', '1/5', '5/10', 'C+',\n",
       "       '0/5', '6', '0.5/4', 'D', '3.1/5', '3/6', '4.5/5', '0/4', '2/10',\n",
       "       'D-', '7', '1/10', '3', 'A+', 'A', '4.0/4', '9.5/10', '2.5',\n",
       "       '2.1/2', '6.5/10', '3.7/5', '8.4/10', '9', '1', '7.2/10', '2.2/5',\n",
       "       '0.5/10', '5', '0', '2', '4.5', '7.7', '5.0/5', '8.5/10', '3.0/5',\n",
       "       '0.5/5', '1.5/10', '3.0/4', '2.3/10', '4.5/10', '4/6', '3.5',\n",
       "       '8.6/10', '6/8', '2.0/4', '2.7', '4.2/10', '5.8', '4', '7.1/10',\n",
       "       '5/4', 'N', '3.5/10', '5.8/10', 'R', '4.0/5', '0/10', '5.0/10',\n",
       "       '5.9/10', '2.4/5', '1.9/5', '4.9', '7.4/10', '1.5', '2.3/4',\n",
       "       '8.8/10', '4.0/10', '2.2', '3.8/10', '6.8/10', '7.3', '7.0/10',\n",
       "       '3.2', '4.2', '8.4', '5.5/5', '6.3/10', '7.6/10', '8.1/10',\n",
       "       '3.6/5', '2/6', '7.7/10', '1.8', '8.9/10', '8.9', '8.2/10',\n",
       "       '8.3/10', '2.6/6', '4.1/10', '2.5/10', 'F+', '6.0/10', '1.0/4',\n",
       "       '7.9/10', '8.7/10', '4.3/10', '9.6/10', '9.0/10', '4.0', '1.7',\n",
       "       '7.9', '6.7', '8.0/10', '9.2/10', '5.2', '5.9', '3.7', '4.7',\n",
       "       '6.2/10', '1/6', '8.2', '2.6/5', '3.4', '9.7', '3.3/5', '3.8/5',\n",
       "       '1/2', '7.4', '4.8', '1.6/5', '2/2', '1-5', '1.0', '4.3/5', '5/6',\n",
       "       '9.2', '2.7/5', '4.9/10', '3.0', '3.1', '7.8/10', 'F-', '2.3/5',\n",
       "       '3.0/10', '3/2', '7.8', '4.2/5', '9.0', '7.3/10', '4.4/5',\n",
       "       '6.9/10', '0/6', 'T', '6.2', '3.3', '9.8', '8.5', '1.0/5', '4.1',\n",
       "       '7.1', '3 1/2'], dtype=object)"
      ]
     },
     "execution_count": 150,
     "metadata": {},
     "output_type": "execute_result"
    }
   ],
   "source": [
    "#checking the unique values in the rating column\n",
    "rt_reviews.rating.unique()"
   ]
  },
  {
   "cell_type": "markdown",
   "metadata": {},
   "source": [
    "It appears that the rating system in this column is very inconsistent. It is difficult to group them thus dropping the column is the better way to proceed."
   ]
  },
  {
   "cell_type": "code",
   "execution_count": 151,
   "metadata": {},
   "outputs": [],
   "source": [
    "#dropping rating column\n",
    "rt_reviews.drop('rating',axis=1,inplace=True)"
   ]
  },
  {
   "cell_type": "code",
   "execution_count": 152,
   "metadata": {},
   "outputs": [],
   "source": [
    "#dropping rows with null values\n",
    "rt_reviews.dropna(inplace = True)"
   ]
  },
  {
   "cell_type": "code",
   "execution_count": 153,
   "metadata": {
    "scrolled": true
   },
   "outputs": [
    {
     "name": "stdout",
     "output_type": "stream",
     "text": [
      "<class 'pandas.core.frame.DataFrame'>\n",
      "Int64Index: 46662 entries, 0 to 54427\n",
      "Data columns (total 7 columns):\n",
      " #   Column      Non-Null Count  Dtype \n",
      "---  ------      --------------  ----- \n",
      " 0   id          46662 non-null  int64 \n",
      " 1   review      46662 non-null  object\n",
      " 2   fresh       46662 non-null  object\n",
      " 3   critic      46662 non-null  object\n",
      " 4   top_critic  46662 non-null  int64 \n",
      " 5   publisher   46662 non-null  object\n",
      " 6   date        46662 non-null  object\n",
      "dtypes: int64(2), object(5)\n",
      "memory usage: 2.8+ MB\n"
     ]
    }
   ],
   "source": [
    "#confirming there are no missing values\n",
    "rt_reviews.info()"
   ]
  },
  {
   "cell_type": "markdown",
   "metadata": {},
   "source": [
    "### 6.3. Structural Issues\n",
    "The dataframes imdb and rt_movies have structural issues. Their genre columns are separated by commas and pipes respectively. This will be dealt with by splitting the columns on their specific delimiters using the `.split()` method then, using the `.explode()` method, transformed into separate rows retaining all other column values. This will increase the number of rows.\n",
    "\n",
    "**a. imdb movies**"
   ]
  },
  {
   "cell_type": "code",
   "execution_count": 154,
   "metadata": {},
   "outputs": [],
   "source": [
    "imdb = imdb.assign(genres=imdb.genres.str.split(',')).explode('genres')"
   ]
  },
  {
   "cell_type": "code",
   "execution_count": 155,
   "metadata": {
    "scrolled": true
   },
   "outputs": [
    {
     "data": {
      "text/html": [
       "<div>\n",
       "<style scoped>\n",
       "    .dataframe tbody tr th:only-of-type {\n",
       "        vertical-align: middle;\n",
       "    }\n",
       "\n",
       "    .dataframe tbody tr th {\n",
       "        vertical-align: top;\n",
       "    }\n",
       "\n",
       "    .dataframe thead th {\n",
       "        text-align: right;\n",
       "    }\n",
       "</style>\n",
       "<table border=\"1\" class=\"dataframe\">\n",
       "  <thead>\n",
       "    <tr style=\"text-align: right;\">\n",
       "      <th></th>\n",
       "      <th>movie_id</th>\n",
       "      <th>primary_title</th>\n",
       "      <th>original_title</th>\n",
       "      <th>start_year</th>\n",
       "      <th>runtime_minutes</th>\n",
       "      <th>genres</th>\n",
       "      <th>averagerating</th>\n",
       "      <th>numvotes</th>\n",
       "      <th>person_id</th>\n",
       "      <th>primary_name</th>\n",
       "      <th>death_year</th>\n",
       "      <th>primary_profession</th>\n",
       "    </tr>\n",
       "  </thead>\n",
       "  <tbody>\n",
       "    <tr>\n",
       "      <th>0</th>\n",
       "      <td>tt0063540</td>\n",
       "      <td>Sunghursh</td>\n",
       "      <td>Sunghursh</td>\n",
       "      <td>2013</td>\n",
       "      <td>175.0</td>\n",
       "      <td>Action</td>\n",
       "      <td>7.0</td>\n",
       "      <td>77</td>\n",
       "      <td>nm0712540</td>\n",
       "      <td>Harnam Singh Rawail</td>\n",
       "      <td>2004</td>\n",
       "      <td>director,writer,producer</td>\n",
       "    </tr>\n",
       "    <tr>\n",
       "      <th>0</th>\n",
       "      <td>tt0063540</td>\n",
       "      <td>Sunghursh</td>\n",
       "      <td>Sunghursh</td>\n",
       "      <td>2013</td>\n",
       "      <td>175.0</td>\n",
       "      <td>Crime</td>\n",
       "      <td>7.0</td>\n",
       "      <td>77</td>\n",
       "      <td>nm0712540</td>\n",
       "      <td>Harnam Singh Rawail</td>\n",
       "      <td>2004</td>\n",
       "      <td>director,writer,producer</td>\n",
       "    </tr>\n",
       "    <tr>\n",
       "      <th>0</th>\n",
       "      <td>tt0063540</td>\n",
       "      <td>Sunghursh</td>\n",
       "      <td>Sunghursh</td>\n",
       "      <td>2013</td>\n",
       "      <td>175.0</td>\n",
       "      <td>Drama</td>\n",
       "      <td>7.0</td>\n",
       "      <td>77</td>\n",
       "      <td>nm0712540</td>\n",
       "      <td>Harnam Singh Rawail</td>\n",
       "      <td>2004</td>\n",
       "      <td>director,writer,producer</td>\n",
       "    </tr>\n",
       "    <tr>\n",
       "      <th>4</th>\n",
       "      <td>tt0066787</td>\n",
       "      <td>One Day Before the Rainy Season</td>\n",
       "      <td>Ashad Ka Ek Din</td>\n",
       "      <td>2019</td>\n",
       "      <td>114.0</td>\n",
       "      <td>Biography</td>\n",
       "      <td>7.2</td>\n",
       "      <td>43</td>\n",
       "      <td>nm0002411</td>\n",
       "      <td>Mani Kaul</td>\n",
       "      <td>2011</td>\n",
       "      <td>director,writer,actor</td>\n",
       "    </tr>\n",
       "    <tr>\n",
       "      <th>4</th>\n",
       "      <td>tt0066787</td>\n",
       "      <td>One Day Before the Rainy Season</td>\n",
       "      <td>Ashad Ka Ek Din</td>\n",
       "      <td>2019</td>\n",
       "      <td>114.0</td>\n",
       "      <td>Drama</td>\n",
       "      <td>7.2</td>\n",
       "      <td>43</td>\n",
       "      <td>nm0002411</td>\n",
       "      <td>Mani Kaul</td>\n",
       "      <td>2011</td>\n",
       "      <td>director,writer,actor</td>\n",
       "    </tr>\n",
       "  </tbody>\n",
       "</table>\n",
       "</div>"
      ],
      "text/plain": [
       "    movie_id                    primary_title   original_title  start_year  \\\n",
       "0  tt0063540                        Sunghursh        Sunghursh        2013   \n",
       "0  tt0063540                        Sunghursh        Sunghursh        2013   \n",
       "0  tt0063540                        Sunghursh        Sunghursh        2013   \n",
       "4  tt0066787  One Day Before the Rainy Season  Ashad Ka Ek Din        2019   \n",
       "4  tt0066787  One Day Before the Rainy Season  Ashad Ka Ek Din        2019   \n",
       "\n",
       "   runtime_minutes     genres  averagerating  numvotes  person_id  \\\n",
       "0            175.0     Action            7.0        77  nm0712540   \n",
       "0            175.0      Crime            7.0        77  nm0712540   \n",
       "0            175.0      Drama            7.0        77  nm0712540   \n",
       "4            114.0  Biography            7.2        43  nm0002411   \n",
       "4            114.0      Drama            7.2        43  nm0002411   \n",
       "\n",
       "          primary_name death_year        primary_profession  \n",
       "0  Harnam Singh Rawail       2004  director,writer,producer  \n",
       "0  Harnam Singh Rawail       2004  director,writer,producer  \n",
       "0  Harnam Singh Rawail       2004  director,writer,producer  \n",
       "4            Mani Kaul       2011     director,writer,actor  \n",
       "4            Mani Kaul       2011     director,writer,actor  "
      ]
     },
     "execution_count": 155,
     "metadata": {},
     "output_type": "execute_result"
    }
   ],
   "source": [
    "imdb.head()"
   ]
  },
  {
   "cell_type": "markdown",
   "metadata": {},
   "source": [
    "**b. rt_movies**"
   ]
  },
  {
   "cell_type": "code",
   "execution_count": 156,
   "metadata": {},
   "outputs": [],
   "source": [
    "rt_movies = rt_movies.assign(genre=rt_movies.genre.str.split('|')).explode('genre')"
   ]
  },
  {
   "cell_type": "code",
   "execution_count": 157,
   "metadata": {},
   "outputs": [
    {
     "data": {
      "text/html": [
       "<div>\n",
       "<style scoped>\n",
       "    .dataframe tbody tr th:only-of-type {\n",
       "        vertical-align: middle;\n",
       "    }\n",
       "\n",
       "    .dataframe tbody tr th {\n",
       "        vertical-align: top;\n",
       "    }\n",
       "\n",
       "    .dataframe thead th {\n",
       "        text-align: right;\n",
       "    }\n",
       "</style>\n",
       "<table border=\"1\" class=\"dataframe\">\n",
       "  <thead>\n",
       "    <tr style=\"text-align: right;\">\n",
       "      <th></th>\n",
       "      <th>id</th>\n",
       "      <th>rating</th>\n",
       "      <th>genre</th>\n",
       "      <th>runtime</th>\n",
       "    </tr>\n",
       "  </thead>\n",
       "  <tbody>\n",
       "    <tr>\n",
       "      <th>0</th>\n",
       "      <td>1</td>\n",
       "      <td>R</td>\n",
       "      <td>Action and Adventure</td>\n",
       "      <td>104 minutes</td>\n",
       "    </tr>\n",
       "    <tr>\n",
       "      <th>0</th>\n",
       "      <td>1</td>\n",
       "      <td>R</td>\n",
       "      <td>Classics</td>\n",
       "      <td>104 minutes</td>\n",
       "    </tr>\n",
       "    <tr>\n",
       "      <th>0</th>\n",
       "      <td>1</td>\n",
       "      <td>R</td>\n",
       "      <td>Drama</td>\n",
       "      <td>104 minutes</td>\n",
       "    </tr>\n",
       "    <tr>\n",
       "      <th>1</th>\n",
       "      <td>3</td>\n",
       "      <td>R</td>\n",
       "      <td>Drama</td>\n",
       "      <td>108 minutes</td>\n",
       "    </tr>\n",
       "    <tr>\n",
       "      <th>1</th>\n",
       "      <td>3</td>\n",
       "      <td>R</td>\n",
       "      <td>Science Fiction and Fantasy</td>\n",
       "      <td>108 minutes</td>\n",
       "    </tr>\n",
       "  </tbody>\n",
       "</table>\n",
       "</div>"
      ],
      "text/plain": [
       "   id rating                        genre      runtime\n",
       "0   1      R         Action and Adventure  104 minutes\n",
       "0   1      R                     Classics  104 minutes\n",
       "0   1      R                        Drama  104 minutes\n",
       "1   3      R                        Drama  108 minutes\n",
       "1   3      R  Science Fiction and Fantasy  108 minutes"
      ]
     },
     "execution_count": 157,
     "metadata": {},
     "output_type": "execute_result"
    }
   ],
   "source": [
    "rt_movies.head()"
   ]
  },
  {
   "cell_type": "markdown",
   "metadata": {},
   "source": [
    "### 6.4. Outliers\n",
    "The imdb dataframe has a movie that is 51420 minutes long and while the movie exists, it largely skews the data. This can be seen in the boxplot below:"
   ]
  },
  {
   "cell_type": "code",
   "execution_count": 158,
   "metadata": {
    "scrolled": false
   },
   "outputs": [
    {
     "data": {
      "image/png": "[encoded data removed]",
      "text/plain": [
       "<Figure size 432x288 with 1 Axes>"
      ]
     },
     "metadata": {
      "needs_background": "light"
     },
     "output_type": "display_data"
    }
   ],
   "source": [
    "sns.boxplot(data = imdb, x = 'runtime_minutes');"
   ]
  },
  {
   "cell_type": "code",
   "execution_count": 159,
   "metadata": {},
   "outputs": [
    {
     "data": {
      "text/html": [
       "<div>\n",
       "<style scoped>\n",
       "    .dataframe tbody tr th:only-of-type {\n",
       "        vertical-align: middle;\n",
       "    }\n",
       "\n",
       "    .dataframe tbody tr th {\n",
       "        vertical-align: top;\n",
       "    }\n",
       "\n",
       "    .dataframe thead th {\n",
       "        text-align: right;\n",
       "    }\n",
       "</style>\n",
       "<table border=\"1\" class=\"dataframe\">\n",
       "  <thead>\n",
       "    <tr style=\"text-align: right;\">\n",
       "      <th></th>\n",
       "      <th>movie_id</th>\n",
       "      <th>primary_title</th>\n",
       "      <th>original_title</th>\n",
       "      <th>start_year</th>\n",
       "      <th>runtime_minutes</th>\n",
       "      <th>genres</th>\n",
       "      <th>averagerating</th>\n",
       "      <th>numvotes</th>\n",
       "      <th>person_id</th>\n",
       "      <th>primary_name</th>\n",
       "      <th>death_year</th>\n",
       "      <th>primary_profession</th>\n",
       "    </tr>\n",
       "  </thead>\n",
       "  <tbody>\n",
       "    <tr>\n",
       "      <th>143</th>\n",
       "      <td>tt0396123</td>\n",
       "      <td>Den milde smerte</td>\n",
       "      <td>Den milde smerte</td>\n",
       "      <td>2010</td>\n",
       "      <td>280.0</td>\n",
       "      <td>Drama</td>\n",
       "      <td>7.8</td>\n",
       "      <td>6</td>\n",
       "      <td>nm0104888</td>\n",
       "      <td>Carsten Brandt</td>\n",
       "      <td>alive</td>\n",
       "      <td>actor,director,writer</td>\n",
       "    </tr>\n",
       "    <tr>\n",
       "      <th>1701</th>\n",
       "      <td>tt10243660</td>\n",
       "      <td>A Tale of Two Kitchens</td>\n",
       "      <td>A Tale of Two Kitchens</td>\n",
       "      <td>2019</td>\n",
       "      <td>29.0</td>\n",
       "      <td>Documentary</td>\n",
       "      <td>6.7</td>\n",
       "      <td>104</td>\n",
       "      <td>nm1970269</td>\n",
       "      <td>Trisha Ziff</td>\n",
       "      <td>alive</td>\n",
       "      <td>producer,director,writer</td>\n",
       "    </tr>\n",
       "    <tr>\n",
       "      <th>1705</th>\n",
       "      <td>tt10244756</td>\n",
       "      <td>Ang hupa</td>\n",
       "      <td>Ang hupa</td>\n",
       "      <td>2019</td>\n",
       "      <td>276.0</td>\n",
       "      <td>Sci-Fi</td>\n",
       "      <td>7.2</td>\n",
       "      <td>5</td>\n",
       "      <td>nm0225010</td>\n",
       "      <td>Lav Diaz</td>\n",
       "      <td>alive</td>\n",
       "      <td>writer,director,editor</td>\n",
       "    </tr>\n",
       "    <tr>\n",
       "      <th>2216</th>\n",
       "      <td>tt1113829</td>\n",
       "      <td>George Harrison: Living in the Material World</td>\n",
       "      <td>George Harrison: Living in the Material World</td>\n",
       "      <td>2011</td>\n",
       "      <td>208.0</td>\n",
       "      <td>Biography</td>\n",
       "      <td>8.2</td>\n",
       "      <td>9372</td>\n",
       "      <td>nm0000217</td>\n",
       "      <td>Martin Scorsese</td>\n",
       "      <td>alive</td>\n",
       "      <td>producer,director,actor</td>\n",
       "    </tr>\n",
       "    <tr>\n",
       "      <th>2216</th>\n",
       "      <td>tt1113829</td>\n",
       "      <td>George Harrison: Living in the Material World</td>\n",
       "      <td>George Harrison: Living in the Material World</td>\n",
       "      <td>2011</td>\n",
       "      <td>208.0</td>\n",
       "      <td>Documentary</td>\n",
       "      <td>8.2</td>\n",
       "      <td>9372</td>\n",
       "      <td>nm0000217</td>\n",
       "      <td>Martin Scorsese</td>\n",
       "      <td>alive</td>\n",
       "      <td>producer,director,actor</td>\n",
       "    </tr>\n",
       "    <tr>\n",
       "      <th>...</th>\n",
       "      <td>...</td>\n",
       "      <td>...</td>\n",
       "      <td>...</td>\n",
       "      <td>...</td>\n",
       "      <td>...</td>\n",
       "      <td>...</td>\n",
       "      <td>...</td>\n",
       "      <td>...</td>\n",
       "      <td>...</td>\n",
       "      <td>...</td>\n",
       "      <td>...</td>\n",
       "      <td>...</td>\n",
       "    </tr>\n",
       "    <tr>\n",
       "      <th>179676</th>\n",
       "      <td>tt9318514</td>\n",
       "      <td>Reason</td>\n",
       "      <td>Vivek</td>\n",
       "      <td>2018</td>\n",
       "      <td>261.0</td>\n",
       "      <td>Documentary</td>\n",
       "      <td>9.0</td>\n",
       "      <td>44</td>\n",
       "      <td>nm0666674</td>\n",
       "      <td>Anand Patwardhan</td>\n",
       "      <td>alive</td>\n",
       "      <td>director,editor,producer</td>\n",
       "    </tr>\n",
       "    <tr>\n",
       "      <th>180302</th>\n",
       "      <td>tt9573980</td>\n",
       "      <td>Leaving Neverland</td>\n",
       "      <td>Leaving Neverland</td>\n",
       "      <td>2019</td>\n",
       "      <td>240.0</td>\n",
       "      <td>Documentary</td>\n",
       "      <td>7.1</td>\n",
       "      <td>19632</td>\n",
       "      <td>nm0715371</td>\n",
       "      <td>Dan Reed</td>\n",
       "      <td>alive</td>\n",
       "      <td>director,producer,writer</td>\n",
       "    </tr>\n",
       "    <tr>\n",
       "      <th>180784</th>\n",
       "      <td>tt9749570</td>\n",
       "      <td>Heimat Is a Space in Time</td>\n",
       "      <td>Heimat ist ein Raum aus Zeit</td>\n",
       "      <td>2019</td>\n",
       "      <td>218.0</td>\n",
       "      <td>Documentary</td>\n",
       "      <td>7.8</td>\n",
       "      <td>14</td>\n",
       "      <td>nm0374656</td>\n",
       "      <td>Thomas Heise</td>\n",
       "      <td>alive</td>\n",
       "      <td>director,writer,producer</td>\n",
       "    </tr>\n",
       "    <tr>\n",
       "      <th>181098</th>\n",
       "      <td>tt9865446</td>\n",
       "      <td>Siege</td>\n",
       "      <td>Siege</td>\n",
       "      <td>2019</td>\n",
       "      <td>16.0</td>\n",
       "      <td>Sci-Fi</td>\n",
       "      <td>8.5</td>\n",
       "      <td>32</td>\n",
       "      <td>nm10490240</td>\n",
       "      <td>Deeptanshu Sinha</td>\n",
       "      <td>alive</td>\n",
       "      <td>director,writer,art_department</td>\n",
       "    </tr>\n",
       "    <tr>\n",
       "      <th>181098</th>\n",
       "      <td>tt9865446</td>\n",
       "      <td>Siege</td>\n",
       "      <td>Siege</td>\n",
       "      <td>2019</td>\n",
       "      <td>16.0</td>\n",
       "      <td>Thriller</td>\n",
       "      <td>8.5</td>\n",
       "      <td>32</td>\n",
       "      <td>nm10490240</td>\n",
       "      <td>Deeptanshu Sinha</td>\n",
       "      <td>alive</td>\n",
       "      <td>director,writer,art_department</td>\n",
       "    </tr>\n",
       "  </tbody>\n",
       "</table>\n",
       "<p>692 rows × 12 columns</p>\n",
       "</div>"
      ],
      "text/plain": [
       "          movie_id                                  primary_title  \\\n",
       "143      tt0396123                               Den milde smerte   \n",
       "1701    tt10243660                         A Tale of Two Kitchens   \n",
       "1705    tt10244756                                       Ang hupa   \n",
       "2216     tt1113829  George Harrison: Living in the Material World   \n",
       "2216     tt1113829  George Harrison: Living in the Material World   \n",
       "...            ...                                            ...   \n",
       "179676   tt9318514                                         Reason   \n",
       "180302   tt9573980                              Leaving Neverland   \n",
       "180784   tt9749570                      Heimat Is a Space in Time   \n",
       "181098   tt9865446                                          Siege   \n",
       "181098   tt9865446                                          Siege   \n",
       "\n",
       "                                       original_title  start_year  \\\n",
       "143                                  Den milde smerte        2010   \n",
       "1701                           A Tale of Two Kitchens        2019   \n",
       "1705                                         Ang hupa        2019   \n",
       "2216    George Harrison: Living in the Material World        2011   \n",
       "2216    George Harrison: Living in the Material World        2011   \n",
       "...                                               ...         ...   \n",
       "179676                                          Vivek        2018   \n",
       "180302                              Leaving Neverland        2019   \n",
       "180784                   Heimat ist ein Raum aus Zeit        2019   \n",
       "181098                                          Siege        2019   \n",
       "181098                                          Siege        2019   \n",
       "\n",
       "        runtime_minutes       genres  averagerating  numvotes   person_id  \\\n",
       "143               280.0        Drama            7.8         6   nm0104888   \n",
       "1701               29.0  Documentary            6.7       104   nm1970269   \n",
       "1705              276.0       Sci-Fi            7.2         5   nm0225010   \n",
       "2216              208.0    Biography            8.2      9372   nm0000217   \n",
       "2216              208.0  Documentary            8.2      9372   nm0000217   \n",
       "...                 ...          ...            ...       ...         ...   \n",
       "179676            261.0  Documentary            9.0        44   nm0666674   \n",
       "180302            240.0  Documentary            7.1     19632   nm0715371   \n",
       "180784            218.0  Documentary            7.8        14   nm0374656   \n",
       "181098             16.0       Sci-Fi            8.5        32  nm10490240   \n",
       "181098             16.0     Thriller            8.5        32  nm10490240   \n",
       "\n",
       "            primary_name death_year              primary_profession  \n",
       "143       Carsten Brandt      alive           actor,director,writer  \n",
       "1701         Trisha Ziff      alive        producer,director,writer  \n",
       "1705            Lav Diaz      alive          writer,director,editor  \n",
       "2216     Martin Scorsese      alive         producer,director,actor  \n",
       "2216     Martin Scorsese      alive         producer,director,actor  \n",
       "...                  ...        ...                             ...  \n",
       "179676  Anand Patwardhan      alive        director,editor,producer  \n",
       "180302          Dan Reed      alive        director,producer,writer  \n",
       "180784      Thomas Heise      alive        director,writer,producer  \n",
       "181098  Deeptanshu Sinha      alive  director,writer,art_department  \n",
       "181098  Deeptanshu Sinha      alive  director,writer,art_department  \n",
       "\n",
       "[692 rows x 12 columns]"
      ]
     },
     "execution_count": 159,
     "metadata": {},
     "output_type": "execute_result"
    }
   ],
   "source": [
    "#selecting the rows with the outliers\n",
    "imdb.loc[(imdb.runtime_minutes > 200) | (imdb.runtime_minutes < 30)]"
   ]
  },
  {
   "cell_type": "code",
   "execution_count": 160,
   "metadata": {},
   "outputs": [],
   "source": [
    "#dropping the outliers\n",
    "imdb = imdb.loc[(imdb.runtime_minutes <= 200) & (imdb.runtime_minutes >= 30)]"
   ]
  },
  {
   "cell_type": "code",
   "execution_count": 161,
   "metadata": {},
   "outputs": [
    {
     "data": {
      "image/png": "[encoded data removed]",
      "text/plain": [
       "<Figure size 432x288 with 1 Axes>"
      ]
     },
     "metadata": {
      "needs_background": "light"
     },
     "output_type": "display_data"
    }
   ],
   "source": [
    "#previewing the new boxplot\n",
    "sns.boxplot(data = imdb, x = 'runtime_minutes');"
   ]
  },
  {
   "cell_type": "markdown",
   "metadata": {},
   "source": [
    "### 6.5. Invalid Data\n",
    "bom_movies and rt_movies dataframes have columns with the wrong datatypes.\n",
    "\n",
    "**bom_movies**\n",
    "\n",
    "The foreign_gross column is in a string format. It will need to be converted to the float format in order to perform numeric operations."
   ]
  },
  {
   "cell_type": "code",
   "execution_count": 162,
   "metadata": {},
   "outputs": [],
   "source": [
    "#removing any commas\n",
    "bom_movies.foreign_gross = bom_movies.foreign_gross.map(lambda x:x.replace(\",\",\"\"))"
   ]
  },
  {
   "cell_type": "code",
   "execution_count": 163,
   "metadata": {},
   "outputs": [],
   "source": [
    "#converting to a float\n",
    "bom_movies.foreign_gross = bom_movies.foreign_gross.astype(float)"
   ]
  },
  {
   "cell_type": "markdown",
   "metadata": {},
   "source": [
    "**rt_movies**\n",
    "\n",
    "The runtime column is in string format with the word \"minutes\". This will be removed and converted to integer format."
   ]
  },
  {
   "cell_type": "code",
   "execution_count": 164,
   "metadata": {},
   "outputs": [],
   "source": [
    "#removing minutes\n",
    "rt_movies.runtime = rt_movies.runtime.str.replace('minutes',\"\")"
   ]
  },
  {
   "cell_type": "code",
   "execution_count": 165,
   "metadata": {},
   "outputs": [],
   "source": [
    "#converting to integer\n",
    "rt_movies.runtime = rt_movies.runtime.astype('int')"
   ]
  },
  {
   "cell_type": "markdown",
   "metadata": {},
   "source": [
    "### 6.6. Merges\n",
    "rt_movies and rt_reviews come from the same source. They need to be merged on the column id."
   ]
  },
  {
   "cell_type": "code",
   "execution_count": 166,
   "metadata": {},
   "outputs": [],
   "source": [
    "#merging the two dataframes\n",
    "rt_merged = rt_reviews.merge(rt_movies, how = 'inner',on = 'id')"
   ]
  },
  {
   "cell_type": "code",
   "execution_count": 167,
   "metadata": {},
   "outputs": [
    {
     "data": {
      "text/html": [
       "<div>\n",
       "<style scoped>\n",
       "    .dataframe tbody tr th:only-of-type {\n",
       "        vertical-align: middle;\n",
       "    }\n",
       "\n",
       "    .dataframe tbody tr th {\n",
       "        vertical-align: top;\n",
       "    }\n",
       "\n",
       "    .dataframe thead th {\n",
       "        text-align: right;\n",
       "    }\n",
       "</style>\n",
       "<table border=\"1\" class=\"dataframe\">\n",
       "  <thead>\n",
       "    <tr style=\"text-align: right;\">\n",
       "      <th></th>\n",
       "      <th>id</th>\n",
       "      <th>review</th>\n",
       "      <th>fresh</th>\n",
       "      <th>critic</th>\n",
       "      <th>top_critic</th>\n",
       "      <th>publisher</th>\n",
       "      <th>date</th>\n",
       "      <th>rating</th>\n",
       "      <th>genre</th>\n",
       "      <th>runtime</th>\n",
       "    </tr>\n",
       "  </thead>\n",
       "  <tbody>\n",
       "    <tr>\n",
       "      <th>0</th>\n",
       "      <td>3</td>\n",
       "      <td>A distinctly gallows take on contemporary fina...</td>\n",
       "      <td>fresh</td>\n",
       "      <td>PJ Nabarro</td>\n",
       "      <td>0</td>\n",
       "      <td>Patrick Nabarro</td>\n",
       "      <td>November 10, 2018</td>\n",
       "      <td>R</td>\n",
       "      <td>Drama</td>\n",
       "      <td>108</td>\n",
       "    </tr>\n",
       "    <tr>\n",
       "      <th>1</th>\n",
       "      <td>3</td>\n",
       "      <td>A distinctly gallows take on contemporary fina...</td>\n",
       "      <td>fresh</td>\n",
       "      <td>PJ Nabarro</td>\n",
       "      <td>0</td>\n",
       "      <td>Patrick Nabarro</td>\n",
       "      <td>November 10, 2018</td>\n",
       "      <td>R</td>\n",
       "      <td>Science Fiction and Fantasy</td>\n",
       "      <td>108</td>\n",
       "    </tr>\n",
       "    <tr>\n",
       "      <th>2</th>\n",
       "      <td>3</td>\n",
       "      <td>It's an allegory in search of a meaning that n...</td>\n",
       "      <td>rotten</td>\n",
       "      <td>Annalee Newitz</td>\n",
       "      <td>0</td>\n",
       "      <td>io9.com</td>\n",
       "      <td>May 23, 2018</td>\n",
       "      <td>R</td>\n",
       "      <td>Drama</td>\n",
       "      <td>108</td>\n",
       "    </tr>\n",
       "    <tr>\n",
       "      <th>3</th>\n",
       "      <td>3</td>\n",
       "      <td>It's an allegory in search of a meaning that n...</td>\n",
       "      <td>rotten</td>\n",
       "      <td>Annalee Newitz</td>\n",
       "      <td>0</td>\n",
       "      <td>io9.com</td>\n",
       "      <td>May 23, 2018</td>\n",
       "      <td>R</td>\n",
       "      <td>Science Fiction and Fantasy</td>\n",
       "      <td>108</td>\n",
       "    </tr>\n",
       "    <tr>\n",
       "      <th>4</th>\n",
       "      <td>3</td>\n",
       "      <td>... life lived in a bubble in financial dealin...</td>\n",
       "      <td>fresh</td>\n",
       "      <td>Sean Axmaker</td>\n",
       "      <td>0</td>\n",
       "      <td>Stream on Demand</td>\n",
       "      <td>January 4, 2018</td>\n",
       "      <td>R</td>\n",
       "      <td>Drama</td>\n",
       "      <td>108</td>\n",
       "    </tr>\n",
       "  </tbody>\n",
       "</table>\n",
       "</div>"
      ],
      "text/plain": [
       "   id                                             review   fresh  \\\n",
       "0   3  A distinctly gallows take on contemporary fina...   fresh   \n",
       "1   3  A distinctly gallows take on contemporary fina...   fresh   \n",
       "2   3  It's an allegory in search of a meaning that n...  rotten   \n",
       "3   3  It's an allegory in search of a meaning that n...  rotten   \n",
       "4   3  ... life lived in a bubble in financial dealin...   fresh   \n",
       "\n",
       "           critic  top_critic         publisher               date rating  \\\n",
       "0      PJ Nabarro           0   Patrick Nabarro  November 10, 2018      R   \n",
       "1      PJ Nabarro           0   Patrick Nabarro  November 10, 2018      R   \n",
       "2  Annalee Newitz           0           io9.com       May 23, 2018      R   \n",
       "3  Annalee Newitz           0           io9.com       May 23, 2018      R   \n",
       "4    Sean Axmaker           0  Stream on Demand    January 4, 2018      R   \n",
       "\n",
       "                         genre  runtime  \n",
       "0                        Drama      108  \n",
       "1  Science Fiction and Fantasy      108  \n",
       "2                        Drama      108  \n",
       "3  Science Fiction and Fantasy      108  \n",
       "4                        Drama      108  "
      ]
     },
     "execution_count": 167,
     "metadata": {},
     "output_type": "execute_result"
    }
   ],
   "source": [
    "#previewing the new dataframe\n",
    "rt_merged.head()"
   ]
  },
  {
   "cell_type": "markdown",
   "metadata": {},
   "source": [
    "## 7. Exploratory Analysis\n",
    "This section deals with analysing the data and creating visualisations that answer the business questions that will lead to appropriate recommendations.\n",
    "1. What are the most popular genres?\n",
    "2. What are the film ratings of the most watched movies?\n",
    "3. What is the relationship between domestic gross earnings and foreign gross earnings?\n",
    "4. Which are the most successful studios?\n",
    "5. Who are the best directors to attach to such a project?\n",
    "\n",
    "### 7.1. Most Popular Genres\n",
    "In order to get the most popular genres, the following steps need to be taken from the imdb dataframe. \n",
    "- The averagerating column is categorised into \"High\",\"Average\" and \"Low\". This helps in grouping the data.\n",
    "- The dataframe is sorted by numvotes. Some movies have high ratings because the number of votes are very few. Adding a cap of at least 1000 votes helps to get better insights.\n",
    "- Grouping the genres by the ratings.\n",
    "- This can be corroborated by the rt_merged dataframe."
   ]
  },
  {
   "cell_type": "code",
   "execution_count": 168,
   "metadata": {},
   "outputs": [],
   "source": [
    "#creating a new column that categorises the average rating into high, average and low\n",
    "imdb['rating'] = [\"High\" if ((x >= 6) and (x <= 10)) \n",
    "                   else \"Low\" for x in imdb.averagerating]"
   ]
  },
  {
   "cell_type": "code",
   "execution_count": 169,
   "metadata": {},
   "outputs": [],
   "source": [
    "#sorting the dataframe by number of votes\n",
    "imdb.sort_values('numvotes', ascending = False, inplace = True)"
   ]
  },
  {
   "cell_type": "code",
   "execution_count": 170,
   "metadata": {},
   "outputs": [],
   "source": [
    "#creating a dataframe where number of votes are greater than 1000\n",
    "imdb1 = imdb.loc[imdb.numvotes > 1000]"
   ]
  },
  {
   "cell_type": "code",
   "execution_count": 171,
   "metadata": {},
   "outputs": [],
   "source": [
    "#grouping data by genre and rating\n",
    "genres = imdb1.groupby(['genres','rating'])['movie_id'].count()"
   ]
  },
  {
   "cell_type": "code",
   "execution_count": 172,
   "metadata": {
    "scrolled": true
   },
   "outputs": [],
   "source": [
    "#sorting the dataframe by high ratings\n",
    "genres = genres.unstack().sort_values('High',ascending = False)[:10]"
   ]
  },
  {
   "cell_type": "code",
   "execution_count": 173,
   "metadata": {},
   "outputs": [],
   "source": [
    "#setting the plot style\n",
    "plt.style.use('ggplot')"
   ]
  },
  {
   "cell_type": "code",
   "execution_count": 175,
   "metadata": {},
   "outputs": [
    {
     "data": {
      "image/png": "[encoded data removed]",
      "text/plain": [
       "<Figure size 1080x720 with 1 Axes>"
      ]
     },
     "metadata": {},
     "output_type": "display_data"
    }
   ],
   "source": [
    "#plotting a bar graph of most popular genres\n",
    "fig,ax = plt.subplots(figsize=(15,10))\n",
    "\n",
    "title = 'Top 10 Genres According to IMDB'\n",
    "y_label = 'Number of High Ratings'\n",
    "x_label = 'Genre'\n",
    "\n",
    "genres.High.plot(kind = 'bar')\n",
    "ax.set_title(title,fontsize=15)\n",
    "ax.set_ylabel(y_label,fontsize=15)\n",
    "ax.set_xlabel(x_label,fontsize=15)\n",
    "plt.xticks(rotation = 60,fontsize=12)\n",
    "fig.savefig('Images/genres.png');"
   ]
  },
  {
   "cell_type": "markdown",
   "metadata": {},
   "source": [
    "We can also get the most popular categories according to Rotten Tomatoes rating system, fresh vs rotten."
   ]
  },
  {
   "cell_type": "code",
   "execution_count": 176,
   "metadata": {
    "scrolled": false
   },
   "outputs": [],
   "source": [
    "#grouping rt_merged by genre and fresh (rating)\n",
    "rt_genres = rt_merged.groupby(['genre','fresh']).count()['id'].unstack()"
   ]
  },
  {
   "cell_type": "code",
   "execution_count": 177,
   "metadata": {},
   "outputs": [],
   "source": [
    "#getting top 10 genres\n",
    "rt_genres = rt_genres.sort_values('fresh',ascending = False)[:10]"
   ]
  },
  {
   "cell_type": "code",
   "execution_count": 178,
   "metadata": {},
   "outputs": [
    {
     "data": {
      "image/png": "[encoded data removed]",
      "text/plain": [
       "<Figure size 1080x720 with 1 Axes>"
      ]
     },
     "metadata": {},
     "output_type": "display_data"
    }
   ],
   "source": [
    "#plotting a bar graph of most popular genres according to rotten tomatoes\n",
    "fig,ax = plt.subplots(figsize=(15,10))\n",
    "\n",
    "title = 'Top 10 Genres According to Rotten Tomatoes'\n",
    "y_label = 'Number of Fresh Ratings'\n",
    "x_label = 'Genre'\n",
    "\n",
    "rt_genres.fresh.plot(kind = 'bar')\n",
    "ax.set_title(title,fontsize=15)\n",
    "ax.set_ylabel(y_label,fontsize=15)\n",
    "ax.set_xlabel(x_label,fontsize=15)\n",
    "plt.xticks(rotation = 60);"
   ]
  },
  {
   "cell_type": "markdown",
   "metadata": {},
   "source": [
    "- Drama is the most popular genre followed by comedy.\n",
    "- Action, adventure and romance movies are also quite popular.\n",
    "\n",
    "### 7.2. Most Popular Film Ratings.\n",
    "This sections seeks to find the film ratings for the most popular movies. The rt_merged dataframe is to be used to answer this question."
   ]
  },
  {
   "cell_type": "code",
   "execution_count": 179,
   "metadata": {},
   "outputs": [],
   "source": [
    "#grouping rt_merged by rating and fresh rating system\n",
    "rt_ratings = rt_merged.groupby(['rating','fresh'])['id'].count().unstack()"
   ]
  },
  {
   "cell_type": "code",
   "execution_count": 180,
   "metadata": {},
   "outputs": [],
   "source": [
    "#sorting values by fresh rating\n",
    "rt_ratings = rt_ratings.sort_values('fresh',ascending = False)"
   ]
  },
  {
   "cell_type": "code",
   "execution_count": 181,
   "metadata": {},
   "outputs": [
    {
     "data": {
      "text/html": [
       "<div>\n",
       "<style scoped>\n",
       "    .dataframe tbody tr th:only-of-type {\n",
       "        vertical-align: middle;\n",
       "    }\n",
       "\n",
       "    .dataframe tbody tr th {\n",
       "        vertical-align: top;\n",
       "    }\n",
       "\n",
       "    .dataframe thead th {\n",
       "        text-align: right;\n",
       "    }\n",
       "</style>\n",
       "<table border=\"1\" class=\"dataframe\">\n",
       "  <thead>\n",
       "    <tr style=\"text-align: right;\">\n",
       "      <th>fresh</th>\n",
       "      <th>fresh</th>\n",
       "      <th>rotten</th>\n",
       "    </tr>\n",
       "    <tr>\n",
       "      <th>rating</th>\n",
       "      <th></th>\n",
       "      <th></th>\n",
       "    </tr>\n",
       "  </thead>\n",
       "  <tbody>\n",
       "    <tr>\n",
       "      <th>R</th>\n",
       "      <td>27241</td>\n",
       "      <td>14354</td>\n",
       "    </tr>\n",
       "    <tr>\n",
       "      <th>PG-13</th>\n",
       "      <td>17395</td>\n",
       "      <td>16274</td>\n",
       "    </tr>\n",
       "    <tr>\n",
       "      <th>PG</th>\n",
       "      <td>11528</td>\n",
       "      <td>6043</td>\n",
       "    </tr>\n",
       "    <tr>\n",
       "      <th>NR</th>\n",
       "      <td>3791</td>\n",
       "      <td>945</td>\n",
       "    </tr>\n",
       "    <tr>\n",
       "      <th>G</th>\n",
       "      <td>2142</td>\n",
       "      <td>646</td>\n",
       "    </tr>\n",
       "  </tbody>\n",
       "</table>\n",
       "</div>"
      ],
      "text/plain": [
       "fresh   fresh  rotten\n",
       "rating               \n",
       "R       27241   14354\n",
       "PG-13   17395   16274\n",
       "PG      11528    6043\n",
       "NR       3791     945\n",
       "G        2142     646"
      ]
     },
     "execution_count": 181,
     "metadata": {},
     "output_type": "execute_result"
    }
   ],
   "source": [
    "rt_ratings"
   ]
  },
  {
   "cell_type": "code",
   "execution_count": 182,
   "metadata": {},
   "outputs": [
    {
     "data": {
      "image/png": "[encoded data removed]",
      "text/plain": [
       "<Figure size 1080x720 with 1 Axes>"
      ]
     },
     "metadata": {},
     "output_type": "display_data"
    }
   ],
   "source": [
    "#plotting a bar graph of the ratings\n",
    "fig,ax = plt.subplots(figsize=(15,10))\n",
    "\n",
    "title = 'Film Ratings'\n",
    "y_label = 'Number of Movies'\n",
    "x_label = 'Rating'\n",
    "\n",
    "rt_ratings.fresh.plot(kind = 'bar')\n",
    "ax.set_title(title,fontsize=15)\n",
    "ax.set_ylabel(y_label,fontsize=15)\n",
    "ax.set_xlabel(x_label,fontsize=15)\n",
    "plt.xticks(rotation = 60,fontsize = 15)\n",
    "fig.savefig('Images/ratings.png');"
   ]
  },
  {
   "cell_type": "markdown",
   "metadata": {},
   "source": [
    "- R rated movies are the most popular with G rated movies being the least popular.\n",
    "\n",
    "### 7.3. Correlation between Foreign and Domestic Gross Earnings\n",
    "The bom_movies dataframe is used to answer this."
   ]
  },
  {
   "cell_type": "code",
   "execution_count": 183,
   "metadata": {
    "scrolled": true
   },
   "outputs": [
    {
     "data": {
      "text/plain": [
       "array([[1.        , 0.79234835],\n",
       "       [0.79234835, 1.        ]])"
      ]
     },
     "execution_count": 183,
     "metadata": {},
     "output_type": "execute_result"
    }
   ],
   "source": [
    "#calculating Pearson correlation coefficient\n",
    "np.corrcoef(bom_movies.domestic_gross,bom_movies.foreign_gross)"
   ]
  },
  {
   "cell_type": "markdown",
   "metadata": {},
   "source": [
    "Domestic and foreign gross earnings appear to have a strong positive correlation. Plotting a scatter to visualise this:"
   ]
  },
  {
   "cell_type": "code",
   "execution_count": 184,
   "metadata": {
    "scrolled": false
   },
   "outputs": [
    {
     "data": {
      "image/png": "[encoded data removed]",
      "text/plain": [
       "<Figure size 1080x720 with 1 Axes>"
      ]
     },
     "metadata": {},
     "output_type": "display_data"
    }
   ],
   "source": [
    "#plotting a scatter plot\n",
    "fig,ax = plt.subplots(figsize=(15,10))\n",
    "\n",
    "title = 'Relationship between Foreign and Domestic Gross Earnings'\n",
    "y_label = 'Foreign Gross (USD)'\n",
    "x_label = 'Domestic Gross (USD)'\n",
    "\n",
    "ax.scatter(bom_movies.domestic_gross,bom_movies.foreign_gross,alpha = 0.5)\n",
    "ax.set_title(title,fontsize=15)\n",
    "ax.set_ylabel(y_label,fontsize=15)\n",
    "ax.set_xlabel(x_label,fontsize=15);"
   ]
  },
  {
   "cell_type": "markdown",
   "metadata": {},
   "source": [
    "- From this it is clear that movies that do well domestically are likely to do as well internationally.\n",
    "\n",
    "### 7.4. Most Successful Studios\n",
    "In order to find the most successful studios, the following steps are to be taken from the bom_movies dataframe:\n",
    "- The domestic_gross and foreign_gross columns are summed up to form a new column called total_gross\n",
    "- The dataframe is grouped by studio and total_gross then sorted and plotted."
   ]
  },
  {
   "cell_type": "code",
   "execution_count": 185,
   "metadata": {},
   "outputs": [],
   "source": [
    "bom_movies['total_gross'] = bom_movies.domestic_gross + bom_movies.foreign_gross"
   ]
  },
  {
   "cell_type": "code",
   "execution_count": 186,
   "metadata": {
    "scrolled": true
   },
   "outputs": [],
   "source": [
    "bom_studios = bom_movies.groupby(['studio'])['total_gross'].sum().to_frame()"
   ]
  },
  {
   "cell_type": "code",
   "execution_count": 187,
   "metadata": {},
   "outputs": [],
   "source": [
    "bom_studios = bom_studios.sort_values('total_gross',ascending = False)[:5]"
   ]
  },
  {
   "cell_type": "code",
   "execution_count": 188,
   "metadata": {},
   "outputs": [
    {
     "data": {
      "image/png": "[encoded data removed]",
      "text/plain": [
       "<Figure size 1080x720 with 1 Axes>"
      ]
     },
     "metadata": {},
     "output_type": "display_data"
    }
   ],
   "source": [
    "#plotting a bar gragh of the most successful studios\n",
    "fig,ax = plt.subplots(figsize=(15,10))\n",
    "\n",
    "title = 'Most Successful Studios'\n",
    "y_label = 'Total Gross Earnings (USD)'\n",
    "x_label = 'Studio'\n",
    "\n",
    "bom_studios.total_gross.plot(kind='bar')\n",
    "ax.set_title(title,fontsize=15)\n",
    "ax.set_ylabel(y_label,fontsize=15)\n",
    "ax.set_xlabel(x_label,fontsize=15)\n",
    "plt.xticks(rotation = 60,fontsize=15)\n",
    "fig.savefig('Images/studios.png');"
   ]
  },
  {
   "cell_type": "markdown",
   "metadata": {},
   "source": [
    "- BV, Buena Vista Pictures, popularly known as [Walt Disney](https://en.wikipedia.org/wiki/Walt_Disney_Studios_Motion_Pictures#:~:text=Walt%20Disney%20Studios%20Motion%20Pictures%2C%20formerly%20known%20as%20Buena%20Vista%20Pictures%20Distribution%2C%20Inc.%20until%202007%2C%20is%20an%20American%20film%20distribution%20studio%20within%20the%20Disney%20Media%20and%20Entertainment%20Distribution%20division%20of%20The%20Walt%20Disney%20Company.) is the most successful studio followed by Fox, Warner Bros, Universal Pictures and Sony\n",
    "\n",
    "### 7.5. Most Successful Directors\n",
    "In order to find the most successful directors, the imdb1 dataframe is to be used as it is already sorted. The following steps are to be taken:\n",
    "- Selecting the rows where the following conditions are met:\n",
    "        - The rating is \"High\"\n",
    "        - The number of votes is greater than 5000\n",
    "- Find the best directors for the most popular categories, drama, comedy and action.\n",
    "- Using the `.value_counts()` method to find the directors that have directed the most popular movies."
   ]
  },
  {
   "cell_type": "code",
   "execution_count": 189,
   "metadata": {
    "scrolled": true
   },
   "outputs": [],
   "source": [
    "#selecting rows meeting the above conditions for the drama genre\n",
    "imdb_drama_directors = imdb1.loc[(imdb1.rating == 'High') & (imdb1.genres == 'Drama') & (imdb1.numvotes > 5000)]"
   ]
  },
  {
   "cell_type": "code",
   "execution_count": 190,
   "metadata": {},
   "outputs": [],
   "source": [
    "#getting the top 5 directors for the drama category\n",
    "imdb_drama_directors = imdb_drama_directors.primary_name.value_counts()[:5].to_frame()"
   ]
  },
  {
   "cell_type": "code",
   "execution_count": 191,
   "metadata": {},
   "outputs": [
    {
     "data": {
      "text/html": [
       "<div>\n",
       "<style scoped>\n",
       "    .dataframe tbody tr th:only-of-type {\n",
       "        vertical-align: middle;\n",
       "    }\n",
       "\n",
       "    .dataframe tbody tr th {\n",
       "        vertical-align: top;\n",
       "    }\n",
       "\n",
       "    .dataframe thead th {\n",
       "        text-align: right;\n",
       "    }\n",
       "</style>\n",
       "<table border=\"1\" class=\"dataframe\">\n",
       "  <thead>\n",
       "    <tr style=\"text-align: right;\">\n",
       "      <th></th>\n",
       "      <th>primary_name</th>\n",
       "    </tr>\n",
       "  </thead>\n",
       "  <tbody>\n",
       "    <tr>\n",
       "      <th>Steven Soderbergh</th>\n",
       "      <td>6</td>\n",
       "    </tr>\n",
       "    <tr>\n",
       "      <th>Clint Eastwood</th>\n",
       "      <td>6</td>\n",
       "    </tr>\n",
       "    <tr>\n",
       "      <th>Denis Villeneuve</th>\n",
       "      <td>5</td>\n",
       "    </tr>\n",
       "    <tr>\n",
       "      <th>Noah Baumbach</th>\n",
       "      <td>5</td>\n",
       "    </tr>\n",
       "    <tr>\n",
       "      <th>Stephen Frears</th>\n",
       "      <td>5</td>\n",
       "    </tr>\n",
       "  </tbody>\n",
       "</table>\n",
       "</div>"
      ],
      "text/plain": [
       "                   primary_name\n",
       "Steven Soderbergh             6\n",
       "Clint Eastwood                6\n",
       "Denis Villeneuve              5\n",
       "Noah Baumbach                 5\n",
       "Stephen Frears                5"
      ]
     },
     "execution_count": 191,
     "metadata": {},
     "output_type": "execute_result"
    }
   ],
   "source": [
    "#previewing the directors\n",
    "imdb_drama_directors"
   ]
  },
  {
   "cell_type": "code",
   "execution_count": 192,
   "metadata": {
    "scrolled": true
   },
   "outputs": [],
   "source": [
    "#selecting rows meeting the above conditions for the comedy genre\n",
    "imdb_comedy_directors = imdb1.loc[(imdb1.rating == 'High') & (imdb1.genres == 'Comedy') & (imdb1.numvotes > 5000)]"
   ]
  },
  {
   "cell_type": "code",
   "execution_count": 193,
   "metadata": {},
   "outputs": [],
   "source": [
    "#getting the top 5 directors for the comedy category\n",
    "imdb_comedy_directors = imdb_comedy_directors.primary_name.value_counts()[:5].to_frame()"
   ]
  },
  {
   "cell_type": "code",
   "execution_count": 194,
   "metadata": {},
   "outputs": [
    {
     "data": {
      "text/html": [
       "<div>\n",
       "<style scoped>\n",
       "    .dataframe tbody tr th:only-of-type {\n",
       "        vertical-align: middle;\n",
       "    }\n",
       "\n",
       "    .dataframe tbody tr th {\n",
       "        vertical-align: top;\n",
       "    }\n",
       "\n",
       "    .dataframe thead th {\n",
       "        text-align: right;\n",
       "    }\n",
       "</style>\n",
       "<table border=\"1\" class=\"dataframe\">\n",
       "  <thead>\n",
       "    <tr style=\"text-align: right;\">\n",
       "      <th></th>\n",
       "      <th>primary_name</th>\n",
       "    </tr>\n",
       "  </thead>\n",
       "  <tbody>\n",
       "    <tr>\n",
       "      <th>Woody Allen</th>\n",
       "      <td>6</td>\n",
       "    </tr>\n",
       "    <tr>\n",
       "      <th>Noah Baumbach</th>\n",
       "      <td>5</td>\n",
       "    </tr>\n",
       "    <tr>\n",
       "      <th>Adam McKay</th>\n",
       "      <td>4</td>\n",
       "    </tr>\n",
       "    <tr>\n",
       "      <th>Nicholas Stoller</th>\n",
       "      <td>4</td>\n",
       "    </tr>\n",
       "    <tr>\n",
       "      <th>Tim Story</th>\n",
       "      <td>4</td>\n",
       "    </tr>\n",
       "  </tbody>\n",
       "</table>\n",
       "</div>"
      ],
      "text/plain": [
       "                  primary_name\n",
       "Woody Allen                  6\n",
       "Noah Baumbach                5\n",
       "Adam McKay                   4\n",
       "Nicholas Stoller             4\n",
       "Tim Story                    4"
      ]
     },
     "execution_count": 194,
     "metadata": {},
     "output_type": "execute_result"
    }
   ],
   "source": [
    "#previewing the directors\n",
    "imdb_comedy_directors"
   ]
  },
  {
   "cell_type": "code",
   "execution_count": 195,
   "metadata": {},
   "outputs": [],
   "source": [
    "#selecting rows meeting the above conditions for the action genre\n",
    "imdb_action_directors = imdb1.loc[(imdb1.rating == 'High') & (imdb1.genres == 'Action') & (imdb1.numvotes > 5000)]"
   ]
  },
  {
   "cell_type": "code",
   "execution_count": 196,
   "metadata": {},
   "outputs": [],
   "source": [
    "#getting the top 5 directors for the comedy category\n",
    "imdb_action_directors = imdb_action_directors.primary_name.value_counts()[:5].to_frame()"
   ]
  },
  {
   "cell_type": "code",
   "execution_count": 197,
   "metadata": {},
   "outputs": [
    {
     "data": {
      "text/html": [
       "<div>\n",
       "<style scoped>\n",
       "    .dataframe tbody tr th:only-of-type {\n",
       "        vertical-align: middle;\n",
       "    }\n",
       "\n",
       "    .dataframe tbody tr th {\n",
       "        vertical-align: top;\n",
       "    }\n",
       "\n",
       "    .dataframe thead th {\n",
       "        text-align: right;\n",
       "    }\n",
       "</style>\n",
       "<table border=\"1\" class=\"dataframe\">\n",
       "  <thead>\n",
       "    <tr style=\"text-align: right;\">\n",
       "      <th></th>\n",
       "      <th>primary_name</th>\n",
       "    </tr>\n",
       "  </thead>\n",
       "  <tbody>\n",
       "    <tr>\n",
       "      <th>A.R. Murugadoss</th>\n",
       "      <td>6</td>\n",
       "    </tr>\n",
       "    <tr>\n",
       "      <th>Zack Snyder</th>\n",
       "      <td>5</td>\n",
       "    </tr>\n",
       "    <tr>\n",
       "      <th>David Ayer</th>\n",
       "      <td>4</td>\n",
       "    </tr>\n",
       "    <tr>\n",
       "      <th>Joe Russo</th>\n",
       "      <td>4</td>\n",
       "    </tr>\n",
       "    <tr>\n",
       "      <th>Jaume Collet-Serra</th>\n",
       "      <td>4</td>\n",
       "    </tr>\n",
       "  </tbody>\n",
       "</table>\n",
       "</div>"
      ],
      "text/plain": [
       "                    primary_name\n",
       "A.R. Murugadoss                6\n",
       "Zack Snyder                    5\n",
       "David Ayer                     4\n",
       "Joe Russo                      4\n",
       "Jaume Collet-Serra             4"
      ]
     },
     "execution_count": 197,
     "metadata": {},
     "output_type": "execute_result"
    }
   ],
   "source": [
    "#previewing the directors\n",
    "imdb_action_directors"
   ]
  },
  {
   "cell_type": "markdown",
   "metadata": {},
   "source": [
    "## 8. Conclusion\n",
    "The analysis done has been able to provide answers that can lead to actionable recommendations. From the findings, the most popular genres have been determined to be drama, action and comedy. It has also been seen that a movie that does well domestically is likely to do well internationally. In addition to that, R rated movies have been found to be most popular and the most competent studios and directors have been determined.\n",
    "\n",
    "## 9. Recommendations\n",
    "From the analysis done above, the following recommendations can be made to Microsoft.\n",
    "\n",
    "1. The most popular genres are Drama, Comedy and Action. Focusing on these genres is likely to result in a popular movie that is received well by the masses.\n",
    "2. Microsoft needs to benchmark with the Walt Disney Studios, Fox and Warner Bros as their movies have brought in the highest gross earnings worldwide.\n",
    "3. R rated films are by far the most popular movies in the industry and Microsoft should focus on those.\n",
    "4. The best directors to attach to the popular genres are as follows:\n",
    "     - Drama - Clint Eastwood & Steven Soderbergh\n",
    "     - Comedy - Noah Baumbach & Woody Allen\n",
    "     - Action - David Ayer & Zack Synder"
   ]
  }
 ],
 "metadata": {
  "kernelspec": {
   "display_name": "Python 3",
   "language": "python",
   "name": "python3"
  },
  "language_info": {
   "codemirror_mode": {
    "name": "ipython",
    "version": 3
   },
   "file_extension": ".py",
   "mimetype": "text/x-python",
   "name": "python",
   "nbconvert_exporter": "python",
   "pygments_lexer": "ipython3",
   "version": "3.8.5"
  }
 },
 "nbformat": 4,
 "nbformat_minor": 2
}
